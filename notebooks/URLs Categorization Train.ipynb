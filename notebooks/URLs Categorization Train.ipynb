{
 "cells": [
  {
   "cell_type": "markdown",
   "metadata": {
    "id": "upHba8B0wJuj"
   },
   "source": [
    "Internet can be used as one important source of information for machine learning algorithms. Web pages store diverse information about multiple domains. One critical problem is how to categorize this information.\n",
    "\n",
    "Websites classification is performed by using ***NLP*** techniques that helps to generate words frequencies for each category and by calculating categories weights it is possible to predict categories for Websites.\n",
    "\n",
    "\n",
    "---\n",
    "\n",
    "\n",
    "\n",
    "This notebook is made for a challenge that Adot proposes, we are going to train a neural network to predict the categories of each given URL (even if this URL does not exist in reality, so we are not going to scrape the content of the pages which could give very good results) but we are going to use the URLs directly.\n",
    "\n",
    "The Dataset is given by the company in the format of several parquet files and it contains 3 columns: \n",
    "*   **URLs (Uniform Resource Locator):** pages and web sites identifiers\n",
    "*   **Targets:** the list of classes associated to the url ← what we want to predict\n",
    "*   **Day:** day of the month\n",
    "\n",
    "\n"
   ]
  },
  {
   "cell_type": "markdown",
   "metadata": {
    "id": "9JMHvJlw2rar"
   },
   "source": [
    "# Imports  "
   ]
  },
  {
   "cell_type": "code",
   "execution_count": 1,
   "metadata": {
    "colab": {
     "base_uri": "https://localhost:8080/",
     "height": 1000
    },
    "id": "LyuG7UY3HHw9",
    "outputId": "9d991ade-2f56-4291-9eb1-915a6fb8f420"
   },
   "outputs": [
    {
     "name": "stdout",
     "output_type": "stream",
     "text": [
      "Requirement already satisfied: dask[dataframe] in /usr/local/lib/python3.7/dist-packages (2.12.0)\n",
      "Collecting partd>=0.3.10\n",
      "  Downloading partd-1.2.0-py3-none-any.whl (19 kB)\n",
      "Requirement already satisfied: pandas>=0.23.0 in /usr/local/lib/python3.7/dist-packages (from dask[dataframe]) (1.1.5)\n",
      "Requirement already satisfied: numpy>=1.13.0 in /usr/local/lib/python3.7/dist-packages (from dask[dataframe]) (1.19.5)\n",
      "Collecting fsspec>=0.6.0\n",
      "  Downloading fsspec-2021.7.0-py3-none-any.whl (118 kB)\n",
      "\u001b[K     |████████████████████████████████| 118 kB 5.2 MB/s \n",
      "\u001b[?25hRequirement already satisfied: toolz>=0.7.3 in /usr/local/lib/python3.7/dist-packages (from dask[dataframe]) (0.11.1)\n",
      "Requirement already satisfied: python-dateutil>=2.7.3 in /usr/local/lib/python3.7/dist-packages (from pandas>=0.23.0->dask[dataframe]) (2.8.1)\n",
      "Requirement already satisfied: pytz>=2017.2 in /usr/local/lib/python3.7/dist-packages (from pandas>=0.23.0->dask[dataframe]) (2018.9)\n",
      "Collecting locket\n",
      "  Downloading locket-0.2.1-py2.py3-none-any.whl (4.1 kB)\n",
      "Requirement already satisfied: six>=1.5 in /usr/local/lib/python3.7/dist-packages (from python-dateutil>=2.7.3->pandas>=0.23.0->dask[dataframe]) (1.15.0)\n",
      "Installing collected packages: locket, partd, fsspec\n",
      "Successfully installed fsspec-2021.7.0 locket-0.2.1 partd-1.2.0\n",
      "Collecting fastparquet\n",
      "  Downloading fastparquet-0.7.0-cp37-cp37m-manylinux2010_x86_64.whl (1.2 MB)\n",
      "\u001b[K     |████████████████████████████████| 1.2 MB 5.0 MB/s \n",
      "\u001b[?25hRequirement already satisfied: fsspec in /usr/local/lib/python3.7/dist-packages (from fastparquet) (2021.7.0)\n",
      "Collecting cramjam>=2.3.0\n",
      "  Downloading cramjam-2.3.2-cp37-cp37m-manylinux_2_5_x86_64.manylinux1_x86_64.whl (1.5 MB)\n",
      "\u001b[K     |████████████████████████████████| 1.5 MB 22.1 MB/s \n",
      "\u001b[?25hCollecting thrift>=0.11.0\n",
      "  Downloading thrift-0.13.0.tar.gz (59 kB)\n",
      "\u001b[K     |████████████████████████████████| 59 kB 6.0 MB/s \n",
      "\u001b[?25hRequirement already satisfied: pandas>=1.1.0 in /usr/local/lib/python3.7/dist-packages (from fastparquet) (1.1.5)\n",
      "Requirement already satisfied: numpy>=1.11 in /usr/local/lib/python3.7/dist-packages (from fastparquet) (1.19.5)\n",
      "Requirement already satisfied: pytz>=2017.2 in /usr/local/lib/python3.7/dist-packages (from pandas>=1.1.0->fastparquet) (2018.9)\n",
      "Requirement already satisfied: python-dateutil>=2.7.3 in /usr/local/lib/python3.7/dist-packages (from pandas>=1.1.0->fastparquet) (2.8.1)\n",
      "Requirement already satisfied: six>=1.5 in /usr/local/lib/python3.7/dist-packages (from python-dateutil>=2.7.3->pandas>=1.1.0->fastparquet) (1.15.0)\n",
      "Building wheels for collected packages: thrift\n",
      "  Building wheel for thrift (setup.py) ... \u001b[?25l\u001b[?25hdone\n",
      "  Created wheel for thrift: filename=thrift-0.13.0-cp37-cp37m-linux_x86_64.whl size=348196 sha256=f34ceef975897466cc340ad15f128535081ed95a4f5e818578ef0c9a7c6ee705\n",
      "  Stored in directory: /root/.cache/pip/wheels/79/35/5a/19f5dadf91f62bd783aaa8385f700de9bc14772e09ab0f006a\n",
      "Successfully built thrift\n",
      "Installing collected packages: thrift, cramjam, fastparquet\n",
      "Successfully installed cramjam-2.3.2 fastparquet-0.7.0 thrift-0.13.0\n",
      "Collecting pyenchant\n",
      "  Downloading pyenchant-3.2.1-py3-none-any.whl (55 kB)\n",
      "\u001b[K     |████████████████████████████████| 55 kB 2.2 MB/s \n",
      "\u001b[?25hInstalling collected packages: pyenchant\n",
      "Successfully installed pyenchant-3.2.1\n",
      "Collecting transformers\n",
      "  Downloading transformers-4.9.1-py3-none-any.whl (2.6 MB)\n",
      "\u001b[K     |████████████████████████████████| 2.6 MB 5.1 MB/s \n",
      "\u001b[?25hRequirement already satisfied: tqdm>=4.27 in /usr/local/lib/python3.7/dist-packages (from transformers) (4.41.1)\n",
      "Collecting pyyaml>=5.1\n",
      "  Downloading PyYAML-5.4.1-cp37-cp37m-manylinux1_x86_64.whl (636 kB)\n",
      "\u001b[K     |████████████████████████████████| 636 kB 33.3 MB/s \n",
      "\u001b[?25hRequirement already satisfied: filelock in /usr/local/lib/python3.7/dist-packages (from transformers) (3.0.12)\n",
      "Requirement already satisfied: regex!=2019.12.17 in /usr/local/lib/python3.7/dist-packages (from transformers) (2019.12.20)\n",
      "Requirement already satisfied: importlib-metadata in /usr/local/lib/python3.7/dist-packages (from transformers) (4.6.1)\n",
      "Requirement already satisfied: requests in /usr/local/lib/python3.7/dist-packages (from transformers) (2.23.0)\n",
      "Requirement already satisfied: numpy>=1.17 in /usr/local/lib/python3.7/dist-packages (from transformers) (1.19.5)\n",
      "Collecting sacremoses\n",
      "  Downloading sacremoses-0.0.45-py3-none-any.whl (895 kB)\n",
      "\u001b[K     |████████████████████████████████| 895 kB 46.6 MB/s \n",
      "\u001b[?25hCollecting tokenizers<0.11,>=0.10.1\n",
      "  Downloading tokenizers-0.10.3-cp37-cp37m-manylinux_2_5_x86_64.manylinux1_x86_64.manylinux_2_12_x86_64.manylinux2010_x86_64.whl (3.3 MB)\n",
      "\u001b[K     |████████████████████████████████| 3.3 MB 32.2 MB/s \n",
      "\u001b[?25hCollecting huggingface-hub==0.0.12\n",
      "  Downloading huggingface_hub-0.0.12-py3-none-any.whl (37 kB)\n",
      "Requirement already satisfied: packaging in /usr/local/lib/python3.7/dist-packages (from transformers) (21.0)\n",
      "Requirement already satisfied: typing-extensions in /usr/local/lib/python3.7/dist-packages (from huggingface-hub==0.0.12->transformers) (3.7.4.3)\n",
      "Requirement already satisfied: pyparsing>=2.0.2 in /usr/local/lib/python3.7/dist-packages (from packaging->transformers) (2.4.7)\n",
      "Requirement already satisfied: zipp>=0.5 in /usr/local/lib/python3.7/dist-packages (from importlib-metadata->transformers) (3.5.0)\n",
      "Requirement already satisfied: certifi>=2017.4.17 in /usr/local/lib/python3.7/dist-packages (from requests->transformers) (2021.5.30)\n",
      "Requirement already satisfied: urllib3!=1.25.0,!=1.25.1,<1.26,>=1.21.1 in /usr/local/lib/python3.7/dist-packages (from requests->transformers) (1.24.3)\n",
      "Requirement already satisfied: chardet<4,>=3.0.2 in /usr/local/lib/python3.7/dist-packages (from requests->transformers) (3.0.4)\n",
      "Requirement already satisfied: idna<3,>=2.5 in /usr/local/lib/python3.7/dist-packages (from requests->transformers) (2.10)\n",
      "Requirement already satisfied: joblib in /usr/local/lib/python3.7/dist-packages (from sacremoses->transformers) (1.0.1)\n",
      "Requirement already satisfied: six in /usr/local/lib/python3.7/dist-packages (from sacremoses->transformers) (1.15.0)\n",
      "Requirement already satisfied: click in /usr/local/lib/python3.7/dist-packages (from sacremoses->transformers) (7.1.2)\n",
      "Installing collected packages: tokenizers, sacremoses, pyyaml, huggingface-hub, transformers\n",
      "  Attempting uninstall: pyyaml\n",
      "    Found existing installation: PyYAML 3.13\n",
      "    Uninstalling PyYAML-3.13:\n",
      "      Successfully uninstalled PyYAML-3.13\n",
      "Successfully installed huggingface-hub-0.0.12 pyyaml-5.4.1 sacremoses-0.0.45 tokenizers-0.10.3 transformers-4.9.1\n",
      "Reading package lists... Done\n",
      "Building dependency tree       \n",
      "Reading state information... Done\n",
      "The following additional packages will be installed:\n",
      "  aspell aspell-en dictionaries-common emacsen-common enchant hunspell-en-us\n",
      "  libaspell15 libhunspell-1.6-0 libtext-iconv-perl\n",
      "Suggested packages:\n",
      "  aspell-doc spellutils wordlist hunspell openoffice.org-hunspell\n",
      "  | openoffice.org-core libenchant-voikko\n",
      "The following NEW packages will be installed:\n",
      "  aspell aspell-en dictionaries-common emacsen-common enchant hunspell-en-us\n",
      "  libaspell15 libenchant1c2a libhunspell-1.6-0 libtext-iconv-perl\n",
      "0 upgraded, 10 newly installed, 0 to remove and 40 not upgraded.\n",
      "Need to get 1,310 kB of archives.\n",
      "After this operation, 5,353 kB of additional disk space will be used.\n",
      "Get:1 http://archive.ubuntu.com/ubuntu bionic/main amd64 libtext-iconv-perl amd64 1.7-5build6 [13.0 kB]\n",
      "Ign:2 http://archive.ubuntu.com/ubuntu bionic-updates/main amd64 libaspell15 amd64 0.60.7~20110707-4ubuntu0.1\n",
      "Get:3 http://archive.ubuntu.com/ubuntu bionic/main amd64 emacsen-common all 2.0.8 [17.6 kB]\n",
      "Get:4 http://archive.ubuntu.com/ubuntu bionic/main amd64 dictionaries-common all 1.27.2 [186 kB]\n",
      "Err:2 http://security.ubuntu.com/ubuntu bionic-updates/main amd64 libaspell15 amd64 0.60.7~20110707-4ubuntu0.1\n",
      "  404  Not Found [IP: 91.189.88.142 80]\n",
      "Ign:5 http://archive.ubuntu.com/ubuntu bionic-updates/main amd64 aspell amd64 0.60.7~20110707-4ubuntu0.1\n",
      "Get:6 http://archive.ubuntu.com/ubuntu bionic/main amd64 aspell-en all 2017.08.24-0-0.1 [298 kB]\n",
      "Err:5 http://security.ubuntu.com/ubuntu bionic-updates/main amd64 aspell amd64 0.60.7~20110707-4ubuntu0.1\n",
      "  404  Not Found [IP: 91.189.88.142 80]\n",
      "Get:7 http://archive.ubuntu.com/ubuntu bionic/main amd64 hunspell-en-us all 1:2017.08.24 [168 kB]\n",
      "Get:8 http://archive.ubuntu.com/ubuntu bionic/main amd64 libhunspell-1.6-0 amd64 1.6.2-1 [154 kB]\n",
      "Get:9 http://archive.ubuntu.com/ubuntu bionic/main amd64 libenchant1c2a amd64 1.6.0-11.1 [64.4 kB]\n",
      "Get:10 http://archive.ubuntu.com/ubuntu bionic/main amd64 enchant amd64 1.6.0-11.1 [12.2 kB]\n",
      "Fetched 914 kB in 1s (1,159 kB/s)\n",
      "E: Failed to fetch http://security.ubuntu.com/ubuntu/pool/main/a/aspell/libaspell15_0.60.7~20110707-4ubuntu0.1_amd64.deb  404  Not Found [IP: 91.189.88.142 80]\n",
      "E: Failed to fetch http://security.ubuntu.com/ubuntu/pool/main/a/aspell/aspell_0.60.7~20110707-4ubuntu0.1_amd64.deb  404  Not Found [IP: 91.189.88.142 80]\n",
      "E: Unable to fetch some archives, maybe run apt-get update or try with --fix-missing?\n",
      "Reading package lists... Done\n",
      "Building dependency tree       \n",
      "Reading state information... Done\n",
      "Note, selecting 'myspell-fr-gut' instead of 'myspell-fr-fr'\n",
      "The following additional packages will be installed:\n",
      "  dictionaries-common emacsen-common libtext-iconv-perl\n",
      "Suggested packages:\n",
      "  ispell | aspell | hunspell wordlist\n",
      "The following NEW packages will be installed:\n",
      "  dictionaries-common emacsen-common libtext-iconv-perl myspell-fr-gut\n",
      "0 upgraded, 4 newly installed, 0 to remove and 40 not upgraded.\n",
      "Need to get 260 kB/477 kB of archives.\n",
      "After this operation, 2,222 kB of additional disk space will be used.\n",
      "Get:1 http://archive.ubuntu.com/ubuntu bionic/universe amd64 myspell-fr-gut all 1:1.0-32 [260 kB]\n",
      "Fetched 260 kB in 1s (438 kB/s)\n",
      "Preconfiguring packages ...\n",
      "Selecting previously unselected package libtext-iconv-perl.\n",
      "(Reading database ... 160837 files and directories currently installed.)\n",
      "Preparing to unpack .../libtext-iconv-perl_1.7-5build6_amd64.deb ...\n",
      "Unpacking libtext-iconv-perl (1.7-5build6) ...\n",
      "Selecting previously unselected package emacsen-common.\n",
      "Preparing to unpack .../emacsen-common_2.0.8_all.deb ...\n",
      "Unpacking emacsen-common (2.0.8) ...\n",
      "Selecting previously unselected package dictionaries-common.\n",
      "Preparing to unpack .../dictionaries-common_1.27.2_all.deb ...\n",
      "Adding 'diversion of /usr/share/dict/words to /usr/share/dict/words.pre-dictionaries-common by dictionaries-common'\n",
      "Unpacking dictionaries-common (1.27.2) ...\n",
      "Selecting previously unselected package myspell-fr-gut.\n",
      "Preparing to unpack .../myspell-fr-gut_1%3a1.0-32_all.deb ...\n",
      "Unpacking myspell-fr-gut (1:1.0-32) ...\n",
      "Setting up emacsen-common (2.0.8) ...\n",
      "Setting up libtext-iconv-perl (1.7-5build6) ...\n",
      "Setting up dictionaries-common (1.27.2) ...\n",
      "Setting up myspell-fr-gut (1:1.0-32) ...\n",
      "Processing triggers for man-db (2.8.3-2ubuntu0.1) ...\n",
      "Processing triggers for dictionaries-common (1.27.2) ...\n",
      "Collecting tldextract\n",
      "  Downloading tldextract-3.1.0-py2.py3-none-any.whl (87 kB)\n",
      "\u001b[K     |████████████████████████████████| 87 kB 3.0 MB/s \n",
      "\u001b[?25hCollecting requests-file>=1.4\n",
      "  Downloading requests_file-1.5.1-py2.py3-none-any.whl (3.7 kB)\n",
      "Requirement already satisfied: requests>=2.1.0 in /usr/local/lib/python3.7/dist-packages (from tldextract) (2.23.0)\n",
      "Requirement already satisfied: idna in /usr/local/lib/python3.7/dist-packages (from tldextract) (2.10)\n",
      "Requirement already satisfied: filelock>=3.0.8 in /usr/local/lib/python3.7/dist-packages (from tldextract) (3.0.12)\n",
      "Requirement already satisfied: urllib3!=1.25.0,!=1.25.1,<1.26,>=1.21.1 in /usr/local/lib/python3.7/dist-packages (from requests>=2.1.0->tldextract) (1.24.3)\n",
      "Requirement already satisfied: certifi>=2017.4.17 in /usr/local/lib/python3.7/dist-packages (from requests>=2.1.0->tldextract) (2021.5.30)\n",
      "Requirement already satisfied: chardet<4,>=3.0.2 in /usr/local/lib/python3.7/dist-packages (from requests>=2.1.0->tldextract) (3.0.4)\n",
      "Requirement already satisfied: six in /usr/local/lib/python3.7/dist-packages (from requests-file>=1.4->tldextract) (1.15.0)\n",
      "Installing collected packages: requests-file, tldextract\n",
      "Successfully installed requests-file-1.5.1 tldextract-3.1.0\n",
      "Collecting scikit-multilearn\n",
      "  Downloading scikit_multilearn-0.2.0-py3-none-any.whl (89 kB)\n",
      "\u001b[K     |████████████████████████████████| 89 kB 3.7 MB/s \n",
      "\u001b[?25hInstalling collected packages: scikit-multilearn\n",
      "Successfully installed scikit-multilearn-0.2.0\n",
      "Requirement already satisfied: googledrivedownloader in /usr/local/lib/python3.7/dist-packages (0.4)\n",
      "Requirement already satisfied: numpy in /usr/local/lib/python3.7/dist-packages (1.19.5)\n",
      "Collecting numpy\n",
      "  Downloading numpy-1.21.1-cp37-cp37m-manylinux_2_12_x86_64.manylinux2010_x86_64.whl (15.7 MB)\n",
      "\u001b[K     |████████████████████████████████| 15.7 MB 111 kB/s \n",
      "\u001b[?25hInstalling collected packages: numpy\n",
      "  Attempting uninstall: numpy\n",
      "    Found existing installation: numpy 1.19.5\n",
      "    Uninstalling numpy-1.19.5:\n",
      "      Successfully uninstalled numpy-1.19.5\n",
      "\u001b[31mERROR: pip's dependency resolver does not currently take into account all the packages that are installed. This behaviour is the source of the following dependency conflicts.\n",
      "tensorflow 2.5.0 requires numpy~=1.19.2, but you have numpy 1.21.1 which is incompatible.\n",
      "datascience 0.10.6 requires folium==0.2.1, but you have folium 0.8.3 which is incompatible.\n",
      "albumentations 0.1.12 requires imgaug<0.2.7,>=0.2.5, but you have imgaug 0.2.9 which is incompatible.\u001b[0m\n",
      "Successfully installed numpy-1.21.1\n"
     ]
    },
    {
     "data": {
      "application/vnd.colab-display-data+json": {
       "pip_warning": {
        "packages": [
         "numpy"
        ]
       }
      }
     },
     "metadata": {
      "tags": []
     },
     "output_type": "display_data"
    }
   ],
   "source": [
    "# Some important frameworks \n",
    "!python -m pip install dask[dataframe] --upgrade\n",
    "!pip install fastparquet\n",
    "!pip install pyenchant\n",
    "!pip install transformers\n",
    "!apt-get install libenchant1c2a\n",
    "!apt-get install myspell-fr-fr\n",
    "!pip install tldextract\n",
    "!pip install scikit-multilearn\n",
    "!pip install googledrivedownloader\n",
    "!pip install wandb\n",
    "!pip install numpy --upgrade \n",
    "# You may need to restart the runtime"
   ]
  },
  {
   "cell_type": "code",
   "execution_count": 1,
   "metadata": {
    "id": "dJF7QGqxV7RC"
   },
   "outputs": [],
   "source": [
    "import dask.dataframe as dd\n",
    "from dask import delayed\n",
    "from fastparquet import ParquetFile\n",
    "import glob\n",
    "import gc\n",
    "from google.colab import drive\n",
    "from google.colab import files\n",
    "import json\n",
    "import numpy as np\n",
    "from spacy.lang.fr.stop_words import STOP_WORDS as fr_stop\n",
    "from spacy.lang.en.stop_words import STOP_WORDS as en_stop\n",
    "import tldextract\n",
    "from urllib.parse import urlparse\n",
    "from nltk.stem.snowball import FrenchStemmer\n",
    "import re\n",
    "import itertools\n",
    "from setuptools.namespaces import flatten\n",
    "from matplotlib import pyplot as plt\n",
    "from nltk.stem.snowball import SnowballStemmer\n",
    "from skmultilearn.model_selection import IterativeStratification\n",
    "import torch\n",
    "from sklearn.metrics import classification_report, confusion_matrix, multilabel_confusion_matrix, f1_score, accuracy_score\n",
    "from torch.nn import BCEWithLogitsLoss, BCELoss\n",
    "from transformers import AutoModelForSequenceClassification,AdamW\n",
    "from tqdm import trange \n",
    "from google_drive_downloader import GoogleDriveDownloader as gdd\n",
    "import torch\n",
    "from torch.utils.data import TensorDataset, DataLoader, RandomSampler, SequentialSampler\n",
    "from transformers import AutoTokenizer ,AutoModelForSequenceClassification\n"
   ]
  },
  {
   "cell_type": "code",
   "execution_count": 2,
   "metadata": {
    "colab": {
     "base_uri": "https://localhost:8080/",
     "height": 35
    },
    "id": "vcNHYgN0U8QR",
    "outputId": "3041fa9a-f6ce-4674-b0c8-8bc75f0f6502"
   },
   "outputs": [
    {
     "data": {
      "application/vnd.google.colaboratory.intrinsic+json": {
       "type": "string"
      },
      "text/plain": [
       "'Tesla P100-PCIE-16GB'"
      ]
     },
     "execution_count": 2,
     "metadata": {
      "tags": []
     },
     "output_type": "execute_result"
    }
   ],
   "source": [
    "device = torch.device(\"cuda\" if torch.cuda.is_available() else \"cpu\")\n",
    "n_gpu = torch.cuda.device_count()\n",
    "torch.cuda.get_device_name(0)"
   ]
  },
  {
   "cell_type": "markdown",
   "metadata": {
    "id": "36gkLfpxWHYU"
   },
   "source": [
    "# Loading data\n",
    "The data are given in parquet format in several files, so we will read all the files and merge them into a dataframe."
   ]
  },
  {
   "cell_type": "code",
   "execution_count": 3,
   "metadata": {
    "id": "F5S-7keXVkwG"
   },
   "outputs": [],
   "source": [
    "def read_data_parquet(folder_path):\n",
    "    \"\"\"\n",
    "    Returns a Dataframe that contains the contents of all the parquet files that are in the folder_path  \n",
    "    \"\"\"\n",
    "    files = glob.glob(folder_path+'/*.parquet')\n",
    "    @delayed\n",
    "    def load_chunk(path):\n",
    "        return ParquetFile(path).to_pandas()\n",
    "    df = dd.from_delayed([load_chunk(f) for f in files])\n",
    "    # computing the dataframe , removing the old index, creating a new index \n",
    "    pd_df=df.compute().reset_index().drop(columns='index')\n",
    "    return pd_df"
   ]
  },
  {
   "cell_type": "code",
   "execution_count": 4,
   "metadata": {
    "colab": {
     "base_uri": "https://localhost:8080/"
    },
    "id": "gEjLu-h7F2d4",
    "outputId": "c15f0fe5-be51-49c0-d5e9-5ae6c0467c83"
   },
   "outputs": [
    {
     "name": "stdout",
     "output_type": "stream",
     "text": [
      "Downloading 1q4EYndbegewI6wc59CiJSY6t9YitnHD4 into ./data.zip... Done.\n",
      "Unzipping...Done.\n"
     ]
    }
   ],
   "source": [
    "# Downloading data\n",
    "gdd.download_file_from_google_drive(file_id='1q4EYndbegewI6wc59CiJSY6t9YitnHD4',\n",
    "                                    dest_path='./data.zip',\n",
    "                                    unzip=True)"
   ]
  },
  {
   "cell_type": "code",
   "execution_count": 5,
   "metadata": {
    "colab": {
     "base_uri": "https://localhost:8080/",
     "height": 200
    },
    "id": "zpoctVf3GQ4Q",
    "outputId": "b9acd27f-2451-4155-a4eb-ac4c7aa624ca"
   },
   "outputs": [
    {
     "data": {
      "text/html": [
       "<div>\n",
       "<style scoped>\n",
       "    .dataframe tbody tr th:only-of-type {\n",
       "        vertical-align: middle;\n",
       "    }\n",
       "\n",
       "    .dataframe tbody tr th {\n",
       "        vertical-align: top;\n",
       "    }\n",
       "\n",
       "    .dataframe thead th {\n",
       "        text-align: right;\n",
       "    }\n",
       "</style>\n",
       "<table border=\"1\" class=\"dataframe\">\n",
       "  <thead>\n",
       "    <tr style=\"text-align: right;\">\n",
       "      <th></th>\n",
       "      <th>url</th>\n",
       "      <th>target</th>\n",
       "      <th>day</th>\n",
       "    </tr>\n",
       "  </thead>\n",
       "  <tbody>\n",
       "    <tr>\n",
       "      <th>0</th>\n",
       "      <td>https://www.seloger.com/annonces/locations/app...</td>\n",
       "      <td>[378, 1178, 1710, 5529, 96]</td>\n",
       "      <td>16</td>\n",
       "    </tr>\n",
       "    <tr>\n",
       "      <th>1</th>\n",
       "      <td>https://www.gala.fr/l_actu/news_de_stars/charl...</td>\n",
       "      <td>[507, 34, 1259, 184, 358]</td>\n",
       "      <td>1</td>\n",
       "    </tr>\n",
       "    <tr>\n",
       "      <th>2</th>\n",
       "      <td>https://www.cdiscount.com/juniors/plein-air/fu...</td>\n",
       "      <td>[1404, 1403, 1586, 1191, 1398]</td>\n",
       "      <td>1</td>\n",
       "    </tr>\n",
       "    <tr>\n",
       "      <th>3</th>\n",
       "      <td>https://www.regal.fr/recettes/accompagnements/...</td>\n",
       "      <td>[908, 122, 1515, 1556, 1542]</td>\n",
       "      <td>1</td>\n",
       "    </tr>\n",
       "    <tr>\n",
       "      <th>4</th>\n",
       "      <td>https://mobile-dictionary.reverso.net/francais...</td>\n",
       "      <td>[692, 1265, 108, 1494, 474]</td>\n",
       "      <td>1</td>\n",
       "    </tr>\n",
       "  </tbody>\n",
       "</table>\n",
       "</div>"
      ],
      "text/plain": [
       "                                                 url  ... day\n",
       "0  https://www.seloger.com/annonces/locations/app...  ...  16\n",
       "1  https://www.gala.fr/l_actu/news_de_stars/charl...  ...   1\n",
       "2  https://www.cdiscount.com/juniors/plein-air/fu...  ...   1\n",
       "3  https://www.regal.fr/recettes/accompagnements/...  ...   1\n",
       "4  https://mobile-dictionary.reverso.net/francais...  ...   1\n",
       "\n",
       "[5 rows x 3 columns]"
      ]
     },
     "execution_count": 5,
     "metadata": {
      "tags": []
     },
     "output_type": "execute_result"
    }
   ],
   "source": [
    "folder_path = 'data'\n",
    "df_data = read_data_parquet(folder_path)\n",
    "df_data.head()"
   ]
  },
  {
   "cell_type": "markdown",
   "metadata": {
    "id": "DZOWzKzARW9t"
   },
   "source": [
    "# Preproccessing Data"
   ]
  },
  {
   "cell_type": "markdown",
   "metadata": {
    "id": "mmdVfDpu4oTY"
   },
   "source": [
    "First of all, we must look for anomalies in the data (missing values, imbalance ..)"
   ]
  },
  {
   "cell_type": "code",
   "execution_count": 6,
   "metadata": {
    "colab": {
     "base_uri": "https://localhost:8080/"
    },
    "id": "4wy4dD9RbEj-",
    "outputId": "9e0d09c3-aa94-42cc-c28a-f9e0739680ae"
   },
   "outputs": [
    {
     "name": "stdout",
     "output_type": "stream",
     "text": [
      "Number of missing values in the dataset:  0\n"
     ]
    }
   ],
   "source": [
    "# looking for missing values\n",
    "is_NaN = df_data.isnull()\n",
    "row_has_NaN = is_NaN.any(axis=1)\n",
    "rows_with_NaN = df_data[row_has_NaN]\n",
    "print(\"Number of missing values in the dataset: \",len(rows_with_NaN))"
   ]
  },
  {
   "cell_type": "markdown",
   "metadata": {
    "id": "9abRaA5P59CA"
   },
   "source": [
    "## Preproccessing labels"
   ]
  },
  {
   "cell_type": "markdown",
   "metadata": {
    "id": "fk5qZmX964Wc"
   },
   "source": [
    "A URL can belong to several categories at the same time, so we're dealing with multilabel classification, therefore we're going to convert our label indices into one-hot representation where each input's set of labels is represented by a binary array.\n",
    "\n",
    "We'll be writing our own LabelEncoder which is based on scikit-learn's implementation."
   ]
  },
  {
   "cell_type": "code",
   "execution_count": 16,
   "metadata": {
    "id": "YINRf24ImTcr"
   },
   "outputs": [],
   "source": [
    "class LabelEncoder(object):\n",
    "    \"\"\"Label encoder for tag labels.\"\"\"\n",
    "    def __init__(self, class_to_index={}):\n",
    "        self.class_to_index = class_to_index\n",
    "        self.index_to_class = {v: k for k, v in self.class_to_index.items()}\n",
    "        self.classes = list(self.class_to_index.keys())\n",
    "        \n",
    "\n",
    "    def __len__(self):\n",
    "        return len(self.class_to_index)\n",
    "\n",
    "    def __str__(self):\n",
    "        return f\"<LabelEncoder(num_classes={len(self)})>\"\n",
    "\n",
    "    def fit(self, y):\n",
    "        classes = np.unique(list(itertools.chain.from_iterable(y)))\n",
    "        for i, class_ in enumerate(classes):\n",
    "            self.class_to_index[class_] = i\n",
    "        self.index_to_class = {v: k for k, v in self.class_to_index.items()}\n",
    "        self.classes = list(self.class_to_index.keys())\n",
    "        return self\n",
    "\n",
    "    def encode(self, y):\n",
    "        y_one_hot = np.zeros((len(y), len(self.class_to_index)), dtype=int)\n",
    "        for i, item in enumerate(y):\n",
    "            for class_ in item:\n",
    "                y_one_hot[i][self.class_to_index[class_]] = 1\n",
    "        return y_one_hot\n",
    "\n",
    "    def decode(self, y):\n",
    "        classes = []\n",
    "        for i, item in enumerate(y):\n",
    "            indices = np.where(item == 1)[0]\n",
    "            classes.append([self.index_to_class[index] for index in indices])\n",
    "        return classes\n",
    "\n",
    "    def save(self, fp):\n",
    "        with open(fp, \"w\") as fp:\n",
    "            contents = {\"class_to_index\": self.class_to_index}\n",
    "            json.dump(contents, fp, indent=4, sort_keys=False)\n",
    "\n",
    "    def load(self, fp):\n",
    "        with open(fp, \"r\") as fp:\n",
    "          self.class_to_index = json.load(fp=fp)[\"class_to_index\"]\n",
    "        self.index_to_class = {v: k for k, v in self.class_to_index.items()}\n",
    "        self.classes = list(self.class_to_index.keys())"
   ]
  },
  {
   "cell_type": "code",
   "execution_count": 8,
   "metadata": {
    "colab": {
     "base_uri": "https://localhost:8080/"
    },
    "id": "FXmAruFh7sbX",
    "outputId": "47461b5f-5bb0-4389-cfae-bd269399760a"
   },
   "outputs": [
    {
     "name": "stdout",
     "output_type": "stream",
     "text": [
      "Number of classes:  1903\n"
     ]
    }
   ],
   "source": [
    "# One-hot encoding \n",
    "y = df_data['target']\n",
    "# we're going to encode our output labels where we'll be assigning each tag a unique index.\n",
    "label_encoder = LabelEncoder()\n",
    "label_encoder.fit(y)\n",
    "num_labels = len(label_encoder)\n",
    "print(\"Number of classes: \",num_labels)"
   ]
  },
  {
   "cell_type": "code",
   "execution_count": 9,
   "metadata": {
    "colab": {
     "base_uri": "https://localhost:8080/",
     "height": 200
    },
    "id": "8uXuIwbhnzI0",
    "outputId": "10e044f0-453e-4f27-e9d4-26aecaa27ec4"
   },
   "outputs": [
    {
     "data": {
      "text/html": [
       "<div>\n",
       "<style scoped>\n",
       "    .dataframe tbody tr th:only-of-type {\n",
       "        vertical-align: middle;\n",
       "    }\n",
       "\n",
       "    .dataframe tbody tr th {\n",
       "        vertical-align: top;\n",
       "    }\n",
       "\n",
       "    .dataframe thead th {\n",
       "        text-align: right;\n",
       "    }\n",
       "</style>\n",
       "<table border=\"1\" class=\"dataframe\">\n",
       "  <thead>\n",
       "    <tr style=\"text-align: right;\">\n",
       "      <th></th>\n",
       "      <th>url</th>\n",
       "      <th>target</th>\n",
       "      <th>day</th>\n",
       "      <th>tags</th>\n",
       "    </tr>\n",
       "  </thead>\n",
       "  <tbody>\n",
       "    <tr>\n",
       "      <th>0</th>\n",
       "      <td>https://www.seloger.com/annonces/locations/app...</td>\n",
       "      <td>[378, 1178, 1710, 5529, 96]</td>\n",
       "      <td>16</td>\n",
       "      <td>[0, 0, 0, 0, 0, 0, 0, 0, 0, 0, 0, 0, 0, 0, 0, ...</td>\n",
       "    </tr>\n",
       "    <tr>\n",
       "      <th>1</th>\n",
       "      <td>https://www.gala.fr/l_actu/news_de_stars/charl...</td>\n",
       "      <td>[507, 34, 1259, 184, 358]</td>\n",
       "      <td>1</td>\n",
       "      <td>[0, 0, 0, 0, 0, 0, 0, 0, 0, 0, 0, 0, 0, 0, 0, ...</td>\n",
       "    </tr>\n",
       "    <tr>\n",
       "      <th>2</th>\n",
       "      <td>https://www.cdiscount.com/juniors/plein-air/fu...</td>\n",
       "      <td>[1404, 1403, 1586, 1191, 1398]</td>\n",
       "      <td>1</td>\n",
       "      <td>[0, 0, 0, 0, 0, 0, 0, 0, 0, 0, 0, 0, 0, 0, 0, ...</td>\n",
       "    </tr>\n",
       "    <tr>\n",
       "      <th>3</th>\n",
       "      <td>https://www.regal.fr/recettes/accompagnements/...</td>\n",
       "      <td>[908, 122, 1515, 1556, 1542]</td>\n",
       "      <td>1</td>\n",
       "      <td>[0, 0, 0, 0, 0, 0, 0, 0, 0, 0, 0, 0, 0, 0, 0, ...</td>\n",
       "    </tr>\n",
       "    <tr>\n",
       "      <th>4</th>\n",
       "      <td>https://mobile-dictionary.reverso.net/francais...</td>\n",
       "      <td>[692, 1265, 108, 1494, 474]</td>\n",
       "      <td>1</td>\n",
       "      <td>[0, 0, 0, 0, 0, 0, 0, 0, 0, 0, 0, 0, 0, 0, 0, ...</td>\n",
       "    </tr>\n",
       "  </tbody>\n",
       "</table>\n",
       "</div>"
      ],
      "text/plain": [
       "                                                 url  ...                                               tags\n",
       "0  https://www.seloger.com/annonces/locations/app...  ...  [0, 0, 0, 0, 0, 0, 0, 0, 0, 0, 0, 0, 0, 0, 0, ...\n",
       "1  https://www.gala.fr/l_actu/news_de_stars/charl...  ...  [0, 0, 0, 0, 0, 0, 0, 0, 0, 0, 0, 0, 0, 0, 0, ...\n",
       "2  https://www.cdiscount.com/juniors/plein-air/fu...  ...  [0, 0, 0, 0, 0, 0, 0, 0, 0, 0, 0, 0, 0, 0, 0, ...\n",
       "3  https://www.regal.fr/recettes/accompagnements/...  ...  [0, 0, 0, 0, 0, 0, 0, 0, 0, 0, 0, 0, 0, 0, 0, ...\n",
       "4  https://mobile-dictionary.reverso.net/francais...  ...  [0, 0, 0, 0, 0, 0, 0, 0, 0, 0, 0, 0, 0, 0, 0, ...\n",
       "\n",
       "[5 rows x 4 columns]"
      ]
     },
     "execution_count": 9,
     "metadata": {
      "tags": []
     },
     "output_type": "execute_result"
    }
   ],
   "source": [
    "# we create a new colomn in the dataframe with the one-hot encoding\n",
    "df_data['tags'] = df_data['target'].apply(lambda x : list(flatten(label_encoder.encode([x]))))\n",
    "y = label_encoder.encode(df_data['target'])\n",
    "df_data.head()"
   ]
  },
  {
   "cell_type": "code",
   "execution_count": 10,
   "metadata": {
    "colab": {
     "base_uri": "https://localhost:8080/",
     "height": 385
    },
    "id": "LPRtmKQd92A8",
    "outputId": "6bf0c69e-1dc0-47a7-9e09-1cda352145aa"
   },
   "outputs": [
    {
     "name": "stdout",
     "output_type": "stream",
     "text": [
      "minimum number of occurrences: 1\n",
      "maximum number of occurrences: 4292\n",
      "mean number of occurrences: 169.35417761429323\n"
     ]
    },
    {
     "data": {
      "image/png": "[encoded data removed]",
      "text/plain": [
       "<Figure size 432x288 with 1 Axes>"
      ]
     },
     "metadata": {
      "needs_background": "light",
      "tags": []
     },
     "output_type": "display_data"
    }
   ],
   "source": [
    "# Getting some statistics about labels \n",
    "count = y.sum(axis=0)\n",
    "print('minimum number of occurrences:', min(count) )\n",
    "print('maximum number of occurrences:', max(count) )\n",
    "print('mean number of occurrences:', count.mean() )\n",
    "\n",
    "# we plot the number of occurrences of each class\n",
    "fig = plt.figure()\n",
    "ax = fig.add_axes([0,0,1,1])\n",
    "ax.bar(range(len(count)),count)\n",
    "plt.show()"
   ]
  },
  {
   "cell_type": "markdown",
   "metadata": {
    "id": "IWI73TNDBKXN"
   },
   "source": [
    "As we can see, there are about ten classes that are very common. We will eliminate them in the plot so that the distribution of the other classes is clear."
   ]
  },
  {
   "cell_type": "code",
   "execution_count": 11,
   "metadata": {
    "colab": {
     "base_uri": "https://localhost:8080/",
     "height": 336
    },
    "id": "dEq6UrNZBfee",
    "outputId": "8093df6a-7ddd-433e-b0df-535d0af1f7c2"
   },
   "outputs": [
    {
     "data": {
      "image/png": "[encoded data removed]",
      "text/plain": [
       "<Figure size 432x288 with 1 Axes>"
      ]
     },
     "metadata": {
      "needs_background": "light",
      "tags": []
     },
     "output_type": "display_data"
    }
   ],
   "source": [
    "# we plot the number of occurrences of each class\n",
    "sub_count = count[np.where(count>100)[0]]\n",
    "fig = plt.figure()\n",
    "ax = fig.add_axes([0,0,1,1])\n",
    "ax.bar(range(len(sub_count)),sub_count)\n",
    "plt.show()"
   ]
  },
  {
   "cell_type": "markdown",
   "metadata": {
    "id": "wblU9XtBCZS2"
   },
   "source": [
    "As we can see in the plot, there is a huge imbalance in the dataset.\n"
   ]
  },
  {
   "cell_type": "code",
   "execution_count": 12,
   "metadata": {
    "colab": {
     "base_uri": "https://localhost:8080/"
    },
    "id": "5ZJSUOMmK4Kl",
    "outputId": "8289cd18-8042-420d-b19a-850d32c9fcb5"
   },
   "outputs": [
    {
     "name": "stdout",
     "output_type": "stream",
     "text": [
      "number of label that appears just once on the hole dataset 125\n"
     ]
    }
   ],
   "source": [
    "print('number of label that appears just once on the hole dataset',len(np.where(count==1)[0]))"
   ]
  },
  {
   "cell_type": "markdown",
   "metadata": {
    "id": "KCXrg15AiKwc"
   },
   "source": [
    "We are very limited by the lack of data for some classes, I opted for the deletion of classes that have very few examples in the dataset. We assume that it is better to have good performance using 80% of the base than poor performance on 100%. \n",
    "\n",
    "Logically thinking, to have 1903 categories of urls is a lot, we would like to have the real labels so that we can understand the categories (there may be subcategories of categories)"
   ]
  },
  {
   "cell_type": "code",
   "execution_count": 13,
   "metadata": {
    "colab": {
     "base_uri": "https://localhost:8080/"
    },
    "id": "oWta5laHm9pe",
    "outputId": "f05d8288-0443-46c6-abd9-f8fc2f68496a"
   },
   "outputs": [
    {
     "data": {
      "text/plain": [
       "array([   0,    1,    2, ..., 1899, 1901, 1902])"
      ]
     },
     "execution_count": 13,
     "metadata": {
      "tags": []
     },
     "output_type": "execute_result"
    }
   ],
   "source": [
    "# Getting the indices of classes that appears less than min_occurence times in the dataset\n",
    "min_occurence = 500\n",
    "classes2delete = np.where(count<min_occurence)[0]\n",
    "classes2delete"
   ]
  },
  {
   "cell_type": "code",
   "execution_count": 14,
   "metadata": {
    "colab": {
     "base_uri": "https://localhost:8080/"
    },
    "id": "07QWFZInoJ0T",
    "outputId": "b6f17001-982a-4aec-be44-d1dbad07e5a0"
   },
   "outputs": [
    {
     "name": "stdout",
     "output_type": "stream",
     "text": [
      "the number of classes that appears less than 500 times in the dataset:  1759\n",
      "the new number of classes is:  144\n"
     ]
    }
   ],
   "source": [
    "# getting the list of real classes that we want to delete\n",
    "label2delete = np.zeros(num_labels)\n",
    "label2delete[classes2delete] = 1\n",
    "label2delete=list(flatten(label_encoder.decode(np.array([label2delete]))))\n",
    "print('the number of classes that appears less than '+str(min_occurence)+' times in the dataset: ',len(label2delete))\n",
    "print('the new number of classes is: ',num_labels-len(label2delete))"
   ]
  },
  {
   "cell_type": "code",
   "execution_count": 15,
   "metadata": {
    "colab": {
     "base_uri": "https://localhost:8080/"
    },
    "id": "0hEgim_et6Vz",
    "outputId": "0b57c1c1-063d-4ca2-988f-0a9bf8c0624e"
   },
   "outputs": [
    {
     "data": {
      "text/plain": [
       "0               [378, 1710, 5529, 96]\n",
       "1           [507, 34, 1259, 184, 358]\n",
       "2                                  []\n",
       "3              [908, 122, 1515, 1556]\n",
       "4         [692, 1265, 108, 1494, 474]\n",
       "                     ...             \n",
       "67590                 [978, 582, 529]\n",
       "67591                      [910, 122]\n",
       "67592            [381, 925, 211, 930]\n",
       "67593    [1048, 184, 1049, 1187, 358]\n",
       "67594                      [61, 1686]\n",
       "Name: target, Length: 67595, dtype: object"
      ]
     },
     "execution_count": 15,
     "metadata": {
      "tags": []
     },
     "output_type": "execute_result"
    }
   ],
   "source": [
    "def substract(a,b):\n",
    "  \"\"\"\n",
    "    return a list of element of a that doesn't belong to b\n",
    "  \"\"\"\n",
    "  return [x for x in a if int(x) not in b]\n",
    "# convert all the labels to integers\n",
    "label2delete = [int(a) for a in label2delete ]\n",
    "# deleting classes that appears less than 100 times\n",
    "df_data['target'] = df_data['target'].apply(lambda x : substract(x ,label2delete))\n",
    "df_data['target']"
   ]
  },
  {
   "cell_type": "code",
   "execution_count": 17,
   "metadata": {
    "colab": {
     "base_uri": "https://localhost:8080/"
    },
    "id": "GGC1_DBEu2Jh",
    "outputId": "54989154-e36f-4548-dfee-073f58de09fe"
   },
   "outputs": [
    {
     "name": "stdout",
     "output_type": "stream",
     "text": [
      "We will use 84.642 % of the initial data set\n"
     ]
    }
   ],
   "source": [
    "# Removing examples that doesn't belog to any classe \n",
    "initial_size = len(df_data['tags']) \n",
    "df_data = df_data[df_data['target'].map(len) != 0]\n",
    "new_size = len(df_data['tags']) \n",
    "print('We will use '+str(round(new_size/initial_size,5)*100)+' % of the initial data set')"
   ]
  },
  {
   "cell_type": "markdown",
   "metadata": {
    "id": "ipJTUREom2Au"
   },
   "source": [
    "So we will use almost 85% of the dataset to train our model, which eliminates 1759 classes that occur less than 500 times in the dataset"
   ]
  },
  {
   "cell_type": "code",
   "execution_count": 18,
   "metadata": {
    "colab": {
     "base_uri": "https://localhost:8080/"
    },
    "id": "Y9pts9Uivy1e",
    "outputId": "6ba46f2a-3439-4f26-e217-b445c5a3bc4a"
   },
   "outputs": [
    {
     "name": "stdout",
     "output_type": "stream",
     "text": [
      "Nombre de classes:  144\n"
     ]
    }
   ],
   "source": [
    "# One-hot encoding \n",
    "y = df_data['target']\n",
    "# we're going to encode our output labels where we'll be assigning each tag a unique index.\n",
    "label_encoder_reduced = LabelEncoder()\n",
    "label_encoder_reduced.fit(y)\n",
    "num_labels = len(label_encoder_reduced)\n",
    "print(\"Nombre de classes: \",num_labels)"
   ]
  },
  {
   "cell_type": "code",
   "execution_count": 19,
   "metadata": {
    "id": "LKMQTQ5Kl3vY"
   },
   "outputs": [],
   "source": [
    "# we create a new colomn in the dataframe with the one-hot encoding\n",
    "df_data['tags'] = df_data['target'].apply(lambda x : list(flatten(label_encoder_reduced.encode([x]))))\n",
    "y = label_encoder_reduced.encode(df_data['target'])"
   ]
  },
  {
   "cell_type": "code",
   "execution_count": 20,
   "metadata": {
    "colab": {
     "base_uri": "https://localhost:8080/",
     "height": 387
    },
    "id": "agwROvTcnemm",
    "outputId": "c3039caa-4cbd-482e-fcdf-d60851b9ee43"
   },
   "outputs": [
    {
     "name": "stdout",
     "output_type": "stream",
     "text": [
      "minimum number of occurrences: 502\n",
      "maximum number of occurrences: 4292\n",
      "mean number of occurrences: 1174.3055555555557\n"
     ]
    },
    {
     "data": {
      "image/png": "[encoded data removed]",
      "text/plain": [
       "<Figure size 432x288 with 1 Axes>"
      ]
     },
     "metadata": {
      "needs_background": "light",
      "tags": []
     },
     "output_type": "display_data"
    }
   ],
   "source": [
    "# Getting some statistics about labels \n",
    "count = y.sum(axis=0)\n",
    "print('minimum number of occurrences:', min(count) )\n",
    "print('maximum number of occurrences:', max(count) )\n",
    "print('mean number of occurrences:', count.mean() )\n",
    "\n",
    "# we plot the number of occurrences of each class\n",
    "fig = plt.figure()\n",
    "ax = fig.add_axes([0,0,1,1])\n",
    "ax.bar(range(len(count)),count)\n",
    "plt.show()"
   ]
  },
  {
   "cell_type": "markdown",
   "metadata": {
    "id": "DHjzIlYpnirS"
   },
   "source": [
    "the dataset is still unbalanced, but still we have enough examples to train the model for each class."
   ]
  },
  {
   "cell_type": "markdown",
   "metadata": {
    "id": "ud2agDT3wN3T"
   },
   "source": [
    "Multilabel classification is different from Multiclass classification. In multiclas classification, each sample belongs to only one of the many classes. But in Multilabel classification, a single sample may belong to more than one class.\n",
    "\n",
    "To deal with the Multilabel problem, we create a separate column for the labels obtained from Label Powerset transformation of the original labels.\n",
    "\n",
    "To deal with the Multilabel problem, we create a separate column that contains the weight of each example (taking into account the classes to which it belongs)"
   ]
  },
  {
   "cell_type": "code",
   "execution_count": 21,
   "metadata": {
    "colab": {
     "base_uri": "https://localhost:8080/"
    },
    "id": "-VT8gQMxwNnO",
    "outputId": "29817352-40c3-44c1-eaf6-903ab4958f22"
   },
   "outputs": [
    {
     "data": {
      "text/plain": [
       "12"
      ]
     },
     "execution_count": 21,
     "metadata": {
      "tags": []
     },
     "output_type": "execute_result"
    }
   ],
   "source": [
    "# the weight of each class (the number of occurrences of the class / the total number of occurrences of the classes)\n",
    "weights = np.round((count/count.sum())*10000,0)\n",
    "\n",
    "def label_power(x,weights):\n",
    "  \"\"\"\n",
    "    return the weight of an example from the dataset\n",
    "    parameters:\n",
    "      x : numpy array\n",
    "        one-hot representation of tags\n",
    "      weights : list\n",
    "        list of all label's weight\n",
    "  \"\"\"\n",
    "  return (np.array(x)*weights).sum()\n",
    "\n",
    "label_power([1,0,0,1],[10,30,20,2])"
   ]
  },
  {
   "cell_type": "code",
   "execution_count": 22,
   "metadata": {
    "colab": {
     "base_uri": "https://localhost:8080/",
     "height": 419
    },
    "id": "Yg6sKFhIxZTY",
    "outputId": "dcb3a05a-5d6e-4402-a21d-60d11199ffbb"
   },
   "outputs": [
    {
     "data": {
      "text/html": [
       "<div>\n",
       "<style scoped>\n",
       "    .dataframe tbody tr th:only-of-type {\n",
       "        vertical-align: middle;\n",
       "    }\n",
       "\n",
       "    .dataframe tbody tr th {\n",
       "        vertical-align: top;\n",
       "    }\n",
       "\n",
       "    .dataframe thead th {\n",
       "        text-align: right;\n",
       "    }\n",
       "</style>\n",
       "<table border=\"1\" class=\"dataframe\">\n",
       "  <thead>\n",
       "    <tr style=\"text-align: right;\">\n",
       "      <th></th>\n",
       "      <th>url</th>\n",
       "      <th>target</th>\n",
       "      <th>day</th>\n",
       "      <th>tags</th>\n",
       "      <th>powerlabel</th>\n",
       "    </tr>\n",
       "  </thead>\n",
       "  <tbody>\n",
       "    <tr>\n",
       "      <th>0</th>\n",
       "      <td>https://www.seloger.com/annonces/locations/app...</td>\n",
       "      <td>[378, 1710, 5529, 96]</td>\n",
       "      <td>16</td>\n",
       "      <td>[0, 0, 0, 0, 0, 0, 0, 0, 0, 0, 0, 0, 0, 0, 0, ...</td>\n",
       "      <td>191.0</td>\n",
       "    </tr>\n",
       "    <tr>\n",
       "      <th>1</th>\n",
       "      <td>https://www.gala.fr/l_actu/news_de_stars/charl...</td>\n",
       "      <td>[507, 34, 1259, 184, 358]</td>\n",
       "      <td>1</td>\n",
       "      <td>[0, 0, 0, 0, 0, 0, 0, 0, 0, 0, 0, 0, 0, 0, 0, ...</td>\n",
       "      <td>541.0</td>\n",
       "    </tr>\n",
       "    <tr>\n",
       "      <th>3</th>\n",
       "      <td>https://www.regal.fr/recettes/accompagnements/...</td>\n",
       "      <td>[908, 122, 1515, 1556]</td>\n",
       "      <td>1</td>\n",
       "      <td>[0, 0, 0, 0, 0, 0, 0, 0, 0, 0, 0, 0, 0, 0, 0, ...</td>\n",
       "      <td>324.0</td>\n",
       "    </tr>\n",
       "    <tr>\n",
       "      <th>4</th>\n",
       "      <td>https://mobile-dictionary.reverso.net/francais...</td>\n",
       "      <td>[692, 1265, 108, 1494, 474]</td>\n",
       "      <td>1</td>\n",
       "      <td>[0, 0, 0, 0, 0, 0, 0, 1, 0, 0, 0, 0, 0, 0, 0, ...</td>\n",
       "      <td>996.0</td>\n",
       "    </tr>\n",
       "    <tr>\n",
       "      <th>5</th>\n",
       "      <td>https://fr.shopping.rakuten.com/offer/buy/4045...</td>\n",
       "      <td>[1143, 1146, 210, 531]</td>\n",
       "      <td>1</td>\n",
       "      <td>[0, 0, 0, 0, 0, 0, 0, 0, 0, 0, 0, 0, 0, 0, 0, ...</td>\n",
       "      <td>362.0</td>\n",
       "    </tr>\n",
       "    <tr>\n",
       "      <th>...</th>\n",
       "      <td>...</td>\n",
       "      <td>...</td>\n",
       "      <td>...</td>\n",
       "      <td>...</td>\n",
       "      <td>...</td>\n",
       "    </tr>\n",
       "    <tr>\n",
       "      <th>67590</th>\n",
       "      <td>http://www.neonmag.fr/ou-le-tatouage-fait-il-l...</td>\n",
       "      <td>[978, 582, 529]</td>\n",
       "      <td>16</td>\n",
       "      <td>[0, 0, 0, 0, 0, 0, 0, 0, 0, 0, 0, 0, 0, 0, 0, ...</td>\n",
       "      <td>116.0</td>\n",
       "    </tr>\n",
       "    <tr>\n",
       "      <th>67591</th>\n",
       "      <td>https://www.forums.supertoinette.com/recettes-...</td>\n",
       "      <td>[910, 122]</td>\n",
       "      <td>16</td>\n",
       "      <td>[0, 0, 0, 0, 0, 0, 0, 0, 0, 0, 0, 0, 0, 0, 0, ...</td>\n",
       "      <td>222.0</td>\n",
       "    </tr>\n",
       "    <tr>\n",
       "      <th>67592</th>\n",
       "      <td>http://m.jeuxvideo.com/forums/1-22728-2843992-...</td>\n",
       "      <td>[381, 925, 211, 930]</td>\n",
       "      <td>16</td>\n",
       "      <td>[0, 0, 0, 0, 0, 0, 0, 0, 0, 0, 0, 0, 0, 0, 0, ...</td>\n",
       "      <td>409.0</td>\n",
       "    </tr>\n",
       "    <tr>\n",
       "      <th>67593</th>\n",
       "      <td>https://variety.com/2019/film/news/jennifer-an...</td>\n",
       "      <td>[1048, 184, 1049, 1187, 358]</td>\n",
       "      <td>16</td>\n",
       "      <td>[0, 1, 1, 0, 0, 0, 0, 0, 0, 0, 0, 0, 0, 0, 0, ...</td>\n",
       "      <td>503.0</td>\n",
       "    </tr>\n",
       "    <tr>\n",
       "      <th>67594</th>\n",
       "      <td>https://www.2ememain.be/a/velos-velomoteurs/ac...</td>\n",
       "      <td>[61, 1686]</td>\n",
       "      <td>16</td>\n",
       "      <td>[0, 0, 0, 0, 0, 0, 0, 0, 0, 0, 0, 0, 0, 0, 0, ...</td>\n",
       "      <td>262.0</td>\n",
       "    </tr>\n",
       "  </tbody>\n",
       "</table>\n",
       "<p>57214 rows × 5 columns</p>\n",
       "</div>"
      ],
      "text/plain": [
       "                                                     url  ... powerlabel\n",
       "0      https://www.seloger.com/annonces/locations/app...  ...      191.0\n",
       "1      https://www.gala.fr/l_actu/news_de_stars/charl...  ...      541.0\n",
       "3      https://www.regal.fr/recettes/accompagnements/...  ...      324.0\n",
       "4      https://mobile-dictionary.reverso.net/francais...  ...      996.0\n",
       "5      https://fr.shopping.rakuten.com/offer/buy/4045...  ...      362.0\n",
       "...                                                  ...  ...        ...\n",
       "67590  http://www.neonmag.fr/ou-le-tatouage-fait-il-l...  ...      116.0\n",
       "67591  https://www.forums.supertoinette.com/recettes-...  ...      222.0\n",
       "67592  http://m.jeuxvideo.com/forums/1-22728-2843992-...  ...      409.0\n",
       "67593  https://variety.com/2019/film/news/jennifer-an...  ...      503.0\n",
       "67594  https://www.2ememain.be/a/velos-velomoteurs/ac...  ...      262.0\n",
       "\n",
       "[57214 rows x 5 columns]"
      ]
     },
     "execution_count": 22,
     "metadata": {
      "tags": []
     },
     "output_type": "execute_result"
    }
   ],
   "source": [
    "#Applying Label Powerset Tranformation\n",
    "df_data['powerlabel'] = df_data['tags'].apply(lambda x : label_power(x,weights))\n",
    "df_data"
   ]
  },
  {
   "cell_type": "markdown",
   "metadata": {
    "id": "N1rsFdNkcFnL"
   },
   "source": [
    "## Preproccessing URLs"
   ]
  },
  {
   "cell_type": "markdown",
   "metadata": {
    "id": "jN9Xu2wkssMN"
   },
   "source": [
    "As we want to predict the categories from the URLs without scraping the content of the page, we have to extract the keywords from the URLs that can be useful to predict the categories.\n",
    "\n",
    "First of all, if you look at some examples of the dataset, you can see that most of the URLs contain words in French (because they correspond to French pages) and sometimes some words in english."
   ]
  },
  {
   "cell_type": "code",
   "execution_count": 23,
   "metadata": {
    "colab": {
     "base_uri": "https://localhost:8080/"
    },
    "id": "_Y92auvZVCin",
    "outputId": "9ead9f26-ab80-4e5b-a43f-e4844169e082"
   },
   "outputs": [
    {
     "data": {
      "text/plain": [
       "array(['https://www.seloger.com/annonces/locations/appartement/levallois-perret-92/maurice-ravel/126841931.htm',\n",
       "       'https://www.gala.fr/l_actu/news_de_stars/charlotte_gainsbourg_et_yvan_attal_in_love_et_assortis_a_los_angeles_367573',\n",
       "       'https://www.regal.fr/recettes/accompagnements/panisses-10436',\n",
       "       'https://mobile-dictionary.reverso.net/francais-definition/[vigoure',\n",
       "       'https://fr.shopping.rakuten.com/offer/buy/4045108755/zero-gravity-rebirth-and-evolution.html'],\n",
       "      dtype=object)"
      ]
     },
     "execution_count": 23,
     "metadata": {
      "tags": []
     },
     "output_type": "execute_result"
    }
   ],
   "source": [
    "# Some URLs from the dataset\n",
    "df_data.url.values[:5]"
   ]
  },
  {
   "cell_type": "markdown",
   "metadata": {
    "id": "B0DzsekbhQM8"
   },
   "source": [
    "One of the most popular preprocessing for text is the removal of stopwords. But for URLs this pretreatment can change the meaning.\n",
    "\n",
    "Here are just a few examples of how stop words can butcher URLs"
   ]
  },
  {
   "cell_type": "markdown",
   "metadata": {
    "id": "fyUuJRy0fdDk"
   },
   "source": [
    "![image.png](data:image/png;base64,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)"
   ]
  },
  {
   "cell_type": "markdown",
   "metadata": {
    "id": "mRw5lcbDgxnI"
   },
   "source": [
    "When you write for SEO, most experts suggest that it is better to remove SEO stop words from the URL. So we will try with and without the stop words removal"
   ]
  },
  {
   "cell_type": "code",
   "execution_count": 24,
   "metadata": {
    "colab": {
     "base_uri": "https://localhost:8080/"
    },
    "id": "sG_PT8vlctJ8",
    "outputId": "4072374e-af53-4772-893b-aace89936326"
   },
   "outputs": [
    {
     "data": {
      "text/plain": [
       "926"
      ]
     },
     "execution_count": 24,
     "metadata": {
      "tags": []
     },
     "output_type": "execute_result"
    }
   ],
   "source": [
    "# Getting the stopwords list\n",
    "final_stopwords_list = list(fr_stop) + list(en_stop)\n",
    "len(final_stopwords_list)"
   ]
  },
  {
   "cell_type": "code",
   "execution_count": 25,
   "metadata": {
    "id": "5OaAvC2Oz6U2"
   },
   "outputs": [],
   "source": [
    "# we can extend the stopwords list with some word related to URLs\n",
    "final_stopwords_list += ['html','htm'] # .... to be added after"
   ]
  },
  {
   "cell_type": "markdown",
   "metadata": {
    "id": "6TVn_MPunf6x"
   },
   "source": [
    "Another step can be stemming which consists in reducing a word in its \"root\" form. The purpose of stemming is to combine many variants of a word as a single word. For example, once you apply stemming to \"Dogs\" or \"Dog\", the resulting word is the same. This allows you to reduce the size of the vocabulary"
   ]
  },
  {
   "cell_type": "code",
   "execution_count": 26,
   "metadata": {
    "colab": {
     "base_uri": "https://localhost:8080/"
    },
    "id": "r2WzzsZoauV0",
    "outputId": "79d38c0e-b905-43fc-c1a0-a649cfb556ad"
   },
   "outputs": [
    {
     "data": {
      "text/plain": [
       "('contamin', 'contamin')"
      ]
     },
     "execution_count": 26,
     "metadata": {
      "tags": []
     },
     "output_type": "execute_result"
    }
   ],
   "source": [
    "# An example on Stemming\n",
    "stemmer = SnowballStemmer(language='french')\n",
    "stemmer.stem('contamination'), stemmer.stem('contaminer')"
   ]
  },
  {
   "cell_type": "markdown",
   "metadata": {
    "id": "BvsVgsc51UJQ"
   },
   "source": [
    "More concretely, we applied several steps as pre-processing that we can mention in the following order: \n",
    "\n",
    "\n",
    "1.   We extract from the URL the domain name, the path and the query if it exists (like in the search engine). \n",
    "2.   We split the (path + query) by the common separators in URLs (- _ % : , / . + =) and digits also.\n",
    "\n",
    "3.  For each token obtained in the second step, we try to split it by uppercase letters (developers use to replace the space by an uppercase letter). For example: MultilabelClassification -> Multilabel Classification. \n",
    "\n",
    "4.  we convert each token into lowercase letters and we only take tokens that satisfy all the following conditions:\n",
    "\n",
    "    *   Does not contain numbers.\n",
    "    *   Its length is between 3 and 20 (if its length is too long it is most probably a hash and has no meaning).\n",
    "    *   It does not belong to the stopwords list.\n",
    "    *   One more condition (optional), if the word belongs to the French or English dictionary (it can help to remove the hashes which disturb the prediction, we will test the utility of that in prediction)\n",
    "\n",
    "5.   we concatenate the domain name with the tokens (I did some experiments and I found that keeping the domain name gives better results)\n",
    "\n",
    "\n"
   ]
  },
  {
   "cell_type": "code",
   "execution_count": 27,
   "metadata": {
    "colab": {
     "base_uri": "https://localhost:8080/"
    },
    "id": "KdlI20ypz5Ve",
    "outputId": "06e830a0-90f0-4c62-a9a4-91fbb8125f44"
   },
   "outputs": [
    {
     "data": {
      "text/plain": [
       "['Fast', 'AND', 'Furious']"
      ]
     },
     "execution_count": 27,
     "metadata": {
      "tags": []
     },
     "output_type": "execute_result"
    }
   ],
   "source": [
    "# getting the french and english dictionnary from enchant library\n",
    "#d_french = enchant.Dict('fr')\n",
    "#d_english = d = enchant.Dict('en')\n",
    "\n",
    "def splitAtUpperCase(s):\n",
    "  \"\"\"\n",
    "    split the word s by uppercase letter\n",
    "  \"\"\"\n",
    "  for i in range(len(s)-1)[::-1]:\n",
    "      if s[i].isupper() and s[i+1].islower():\n",
    "          s = s[:i]+' '+s[i:]\n",
    "      if s[i].isupper() and s[i-1].islower():\n",
    "          s = s[:i]+' '+s[i:]\n",
    "  return s.split()\n",
    "\n",
    "# an example of splitting by uppercase letters\n",
    "splitAtUpperCase('FastANDFurious')"
   ]
  },
  {
   "cell_type": "code",
   "execution_count": 28,
   "metadata": {
    "id": "aMUmigZPnxqn"
   },
   "outputs": [],
   "source": [
    "def removal_condition(token ,stopwords, check_existence:bool) :\n",
    "  \"\"\"\n",
    "    *Returns a boolean indicate if the token satisfy all the conditions or not*\n",
    "    Parameters\n",
    "    ----------\n",
    "    token : str\n",
    "        a word.\n",
    "    stopwords : list of str\n",
    "        a list of words that we want to remove.\n",
    "\n",
    "    check_existence:bool \n",
    "        a boolean indicate if we want to check if the word exist in the dictionnary or not\n",
    "    Returns\n",
    "    -------\n",
    "    bool\n",
    "        the token satisfy all the conditions or not.\n",
    "  \"\"\"\n",
    "  cond =  any(c.isdigit() for c in token) or len(token) <=2 or token in stopwords or len(token) >= 20 \n",
    "  if check_existence and len(token) != 0 :\n",
    "    cond = cond or not(d_english.check(token) or d_french.check(token)) \n",
    "  return not(cond)"
   ]
  },
  {
   "cell_type": "code",
   "execution_count": 29,
   "metadata": {
    "id": "fiy-4viA7d2L"
   },
   "outputs": [],
   "source": [
    "def preprocess_url (url ,stopwords_list) :\n",
    "  \"\"\"\n",
    "    *Process the url to make it ready to be used by the model*\n",
    "    Parameters\n",
    "    ----------\n",
    "    url : str\n",
    "        the url of a page.\n",
    "    stopwords_list : list of str\n",
    "        a list of words that we want to remove.\n",
    "    Returns\n",
    "    -------\n",
    "    str\n",
    "        processed url\n",
    "  \"\"\"\n",
    "\n",
    "  # getting the domain name using tldextract library\n",
    "  domain_name = tldextract.extract(url)[1]\n",
    "  full_path = urlparse(url).path\n",
    "  # getting the query if it exists otherwise it's empty\n",
    "  query = urlparse(url).query\n",
    "  # split of (path + query )\n",
    "  splited_tokens = re.split('[- _ % : , / \\. \\+ = ]', full_path +' '+query)\n",
    "  tokens = []\n",
    "  # spliting by digits\n",
    "  for token in splited_tokens : \n",
    "      tokens += re.split('\\d+' , token)\n",
    "  # spliting by uppercase letters\n",
    "  tokens = list(flatten([splitAtUpperCase(s) for s in tokens]))\n",
    "  # stemming , lowercasing , stopwords removal , and removing tokens with numbers \n",
    "  tokens = [ stemmer.stem(token.lower()) for token in tokens if removal_condition(token.lower() , stopwords_list,False) ]\n",
    "  tokens = [token for token in tokens if removal_condition(token , stopwords_list,False)]\n",
    "  # return unique elements\n",
    "  # [domain_name] +\n",
    "  final_sentence = list(dict.fromkeys([domain_name] + tokens))\n",
    "  return \" \".join(final_sentence)"
   ]
  },
  {
   "cell_type": "code",
   "execution_count": 30,
   "metadata": {
    "colab": {
     "base_uri": "https://localhost:8080/",
     "height": 35
    },
    "id": "U7-HKobhpFUH",
    "outputId": "9b03b79f-0f6d-44f9-e48f-2f372f1d0f8f"
   },
   "outputs": [
    {
     "data": {
      "application/vnd.google.colaboratory.intrinsic+json": {
       "type": "string"
      },
      "text/plain": [
       "'github thinam fast blob main multilabel classif regress ipynb'"
      ]
     },
     "execution_count": 30,
     "metadata": {
      "tags": []
     },
     "output_type": "execute_result"
    }
   ],
   "source": [
    "# an example of preprocessing of a URL \n",
    "preprocess_url(\"https://github.com/ThinamXx/Fastai/blob/main/5.%20MultilabelClassification%20Regression/MultilabelClassification.ipynb\",final_stopwords_list)"
   ]
  },
  {
   "cell_type": "code",
   "execution_count": 31,
   "metadata": {
    "colab": {
     "base_uri": "https://localhost:8080/",
     "height": 200
    },
    "id": "c2gfDTbQp0Ug",
    "outputId": "e3f579d2-cf18-4939-8a2f-2631b818c5b0"
   },
   "outputs": [
    {
     "data": {
      "text/html": [
       "<div>\n",
       "<style scoped>\n",
       "    .dataframe tbody tr th:only-of-type {\n",
       "        vertical-align: middle;\n",
       "    }\n",
       "\n",
       "    .dataframe tbody tr th {\n",
       "        vertical-align: top;\n",
       "    }\n",
       "\n",
       "    .dataframe thead th {\n",
       "        text-align: right;\n",
       "    }\n",
       "</style>\n",
       "<table border=\"1\" class=\"dataframe\">\n",
       "  <thead>\n",
       "    <tr style=\"text-align: right;\">\n",
       "      <th></th>\n",
       "      <th>url</th>\n",
       "      <th>target</th>\n",
       "      <th>day</th>\n",
       "      <th>tags</th>\n",
       "      <th>powerlabel</th>\n",
       "      <th>text_url</th>\n",
       "    </tr>\n",
       "  </thead>\n",
       "  <tbody>\n",
       "    <tr>\n",
       "      <th>0</th>\n",
       "      <td>https://www.seloger.com/annonces/locations/app...</td>\n",
       "      <td>[378, 1710, 5529, 96]</td>\n",
       "      <td>16</td>\n",
       "      <td>[0, 0, 0, 0, 0, 0, 0, 0, 0, 0, 0, 0, 0, 0, 0, ...</td>\n",
       "      <td>191.0</td>\n",
       "      <td>seloger annonc locat appart levallois perret m...</td>\n",
       "    </tr>\n",
       "    <tr>\n",
       "      <th>1</th>\n",
       "      <td>https://www.gala.fr/l_actu/news_de_stars/charl...</td>\n",
       "      <td>[507, 34, 1259, 184, 358]</td>\n",
       "      <td>1</td>\n",
       "      <td>[0, 0, 0, 0, 0, 0, 0, 0, 0, 0, 0, 0, 0, 0, 0, ...</td>\n",
       "      <td>541.0</td>\n",
       "      <td>gala actu new star charlott gainsbourg yvan at...</td>\n",
       "    </tr>\n",
       "    <tr>\n",
       "      <th>3</th>\n",
       "      <td>https://www.regal.fr/recettes/accompagnements/...</td>\n",
       "      <td>[908, 122, 1515, 1556]</td>\n",
       "      <td>1</td>\n",
       "      <td>[0, 0, 0, 0, 0, 0, 0, 0, 0, 0, 0, 0, 0, 0, 0, ...</td>\n",
       "      <td>324.0</td>\n",
       "      <td>regal recet accompagn</td>\n",
       "    </tr>\n",
       "    <tr>\n",
       "      <th>4</th>\n",
       "      <td>https://mobile-dictionary.reverso.net/francais...</td>\n",
       "      <td>[692, 1265, 108, 1494, 474]</td>\n",
       "      <td>1</td>\n",
       "      <td>[0, 0, 0, 0, 0, 0, 0, 1, 0, 0, 0, 0, 0, 0, 0, ...</td>\n",
       "      <td>996.0</td>\n",
       "      <td>reverso franc definit [vigour</td>\n",
       "    </tr>\n",
       "    <tr>\n",
       "      <th>5</th>\n",
       "      <td>https://fr.shopping.rakuten.com/offer/buy/4045...</td>\n",
       "      <td>[1143, 1146, 210, 531]</td>\n",
       "      <td>1</td>\n",
       "      <td>[0, 0, 0, 0, 0, 0, 0, 0, 0, 0, 0, 0, 0, 0, 0, ...</td>\n",
       "      <td>362.0</td>\n",
       "      <td>rakuten offer buy zero gravity rebirth evolu</td>\n",
       "    </tr>\n",
       "  </tbody>\n",
       "</table>\n",
       "</div>"
      ],
      "text/plain": [
       "                                                 url  ...                                           text_url\n",
       "0  https://www.seloger.com/annonces/locations/app...  ...  seloger annonc locat appart levallois perret m...\n",
       "1  https://www.gala.fr/l_actu/news_de_stars/charl...  ...  gala actu new star charlott gainsbourg yvan at...\n",
       "3  https://www.regal.fr/recettes/accompagnements/...  ...                              regal recet accompagn\n",
       "4  https://mobile-dictionary.reverso.net/francais...  ...                      reverso franc definit [vigour\n",
       "5  https://fr.shopping.rakuten.com/offer/buy/4045...  ...       rakuten offer buy zero gravity rebirth evolu\n",
       "\n",
       "[5 rows x 6 columns]"
      ]
     },
     "execution_count": 31,
     "metadata": {
      "tags": []
     },
     "output_type": "execute_result"
    }
   ],
   "source": [
    "# preprocessing of all the URLs of the dataset\n",
    "df_data['text_url'] = df_data['url'].apply(lambda x : preprocess_url(x , final_stopwords_list))\n",
    "df_data.head()"
   ]
  },
  {
   "cell_type": "code",
   "execution_count": 32,
   "metadata": {
    "colab": {
     "base_uri": "https://localhost:8080/"
    },
    "id": "URQ_Yw6_GdhN",
    "outputId": "50cceee1-c1d7-44c2-aa76-0f0b370ed2bd"
   },
   "outputs": [
    {
     "name": "stdout",
     "output_type": "stream",
     "text": [
      "average sentence length:  6.395235431887301\n",
      "stdev sentence length:  3.4228490630823956\n",
      "maximum sentence length:  41\n"
     ]
    }
   ],
   "source": [
    "print('average sentence length: ', df_data.text_url.str.split().str.len().mean())\n",
    "print('stdev sentence length: ', df_data.text_url.str.split().str.len().std())\n",
    "print('maximum sentence length: ', df_data.text_url.str.split().str.len().max())"
   ]
  },
  {
   "cell_type": "code",
   "execution_count": 33,
   "metadata": {
    "colab": {
     "base_uri": "https://localhost:8080/",
     "height": 408
    },
    "id": "gtVyZWJsJrik",
    "outputId": "4b0e1b00-f3a9-4011-c56c-f3c238cef769"
   },
   "outputs": [
    {
     "data": {
      "text/html": [
       "<div>\n",
       "<style scoped>\n",
       "    .dataframe tbody tr th:only-of-type {\n",
       "        vertical-align: middle;\n",
       "    }\n",
       "\n",
       "    .dataframe tbody tr th {\n",
       "        vertical-align: top;\n",
       "    }\n",
       "\n",
       "    .dataframe thead th {\n",
       "        text-align: right;\n",
       "    }\n",
       "</style>\n",
       "<table border=\"1\" class=\"dataframe\">\n",
       "  <thead>\n",
       "    <tr style=\"text-align: right;\">\n",
       "      <th></th>\n",
       "      <th>text_url</th>\n",
       "      <th>tags</th>\n",
       "      <th>powerlabel</th>\n",
       "    </tr>\n",
       "  </thead>\n",
       "  <tbody>\n",
       "    <tr>\n",
       "      <th>0</th>\n",
       "      <td>seloger annonc locat appart levallois perret m...</td>\n",
       "      <td>[0, 0, 0, 0, 0, 0, 0, 0, 0, 0, 0, 0, 0, 0, 0, ...</td>\n",
       "      <td>191.0</td>\n",
       "    </tr>\n",
       "    <tr>\n",
       "      <th>1</th>\n",
       "      <td>gala actu new star charlott gainsbourg yvan at...</td>\n",
       "      <td>[0, 0, 0, 0, 0, 0, 0, 0, 0, 0, 0, 0, 0, 0, 0, ...</td>\n",
       "      <td>541.0</td>\n",
       "    </tr>\n",
       "    <tr>\n",
       "      <th>3</th>\n",
       "      <td>regal recet accompagn</td>\n",
       "      <td>[0, 0, 0, 0, 0, 0, 0, 0, 0, 0, 0, 0, 0, 0, 0, ...</td>\n",
       "      <td>324.0</td>\n",
       "    </tr>\n",
       "    <tr>\n",
       "      <th>4</th>\n",
       "      <td>reverso franc definit [vigour</td>\n",
       "      <td>[0, 0, 0, 0, 0, 0, 0, 1, 0, 0, 0, 0, 0, 0, 0, ...</td>\n",
       "      <td>996.0</td>\n",
       "    </tr>\n",
       "    <tr>\n",
       "      <th>5</th>\n",
       "      <td>rakuten offer buy zero gravity rebirth evolu</td>\n",
       "      <td>[0, 0, 0, 0, 0, 0, 0, 0, 0, 0, 0, 0, 0, 0, 0, ...</td>\n",
       "      <td>362.0</td>\n",
       "    </tr>\n",
       "    <tr>\n",
       "      <th>...</th>\n",
       "      <td>...</td>\n",
       "      <td>...</td>\n",
       "      <td>...</td>\n",
       "    </tr>\n",
       "    <tr>\n",
       "      <th>67590</th>\n",
       "      <td>neonmag tatouag mal</td>\n",
       "      <td>[0, 0, 0, 0, 0, 0, 0, 0, 0, 0, 0, 0, 0, 0, 0, ...</td>\n",
       "      <td>116.0</td>\n",
       "    </tr>\n",
       "    <tr>\n",
       "      <th>67591</th>\n",
       "      <td>supertoinette recet pologn varie polonais</td>\n",
       "      <td>[0, 0, 0, 0, 0, 0, 0, 0, 0, 0, 0, 0, 0, 0, 0, ...</td>\n",
       "      <td>222.0</td>\n",
       "    </tr>\n",
       "    <tr>\n",
       "      <th>67592</th>\n",
       "      <td>jeuxvideo forum spoil aid mer trevor</td>\n",
       "      <td>[0, 0, 0, 0, 0, 0, 0, 0, 0, 0, 0, 0, 0, 0, 0, ...</td>\n",
       "      <td>409.0</td>\n",
       "    </tr>\n",
       "    <tr>\n",
       "      <th>67593</th>\n",
       "      <td>variety film new jennif aniston friend reunion...</td>\n",
       "      <td>[0, 1, 1, 0, 0, 0, 0, 0, 0, 0, 0, 0, 0, 0, 0, ...</td>\n",
       "      <td>503.0</td>\n",
       "    </tr>\n",
       "    <tr>\n",
       "      <th>67594</th>\n",
       "      <td>2ememain velos velomoteur accessoir velo remor...</td>\n",
       "      <td>[0, 0, 0, 0, 0, 0, 0, 0, 0, 0, 0, 0, 0, 0, 0, ...</td>\n",
       "      <td>262.0</td>\n",
       "    </tr>\n",
       "  </tbody>\n",
       "</table>\n",
       "<p>57214 rows × 3 columns</p>\n",
       "</div>"
      ],
      "text/plain": [
       "                                                text_url  ... powerlabel\n",
       "0      seloger annonc locat appart levallois perret m...  ...      191.0\n",
       "1      gala actu new star charlott gainsbourg yvan at...  ...      541.0\n",
       "3                                  regal recet accompagn  ...      324.0\n",
       "4                          reverso franc definit [vigour  ...      996.0\n",
       "5           rakuten offer buy zero gravity rebirth evolu  ...      362.0\n",
       "...                                                  ...  ...        ...\n",
       "67590                                neonmag tatouag mal  ...      116.0\n",
       "67591          supertoinette recet pologn varie polonais  ...      222.0\n",
       "67592               jeuxvideo forum spoil aid mer trevor  ...      409.0\n",
       "67593  variety film new jennif aniston friend reunion...  ...      503.0\n",
       "67594  2ememain velos velomoteur accessoir velo remor...  ...      262.0\n",
       "\n",
       "[57214 rows x 3 columns]"
      ]
     },
     "execution_count": 33,
     "metadata": {
      "tags": []
     },
     "output_type": "execute_result"
    }
   ],
   "source": [
    "df_data = df_data[['text_url','tags','powerlabel']]\n",
    "df_data"
   ]
  },
  {
   "cell_type": "code",
   "execution_count": 34,
   "metadata": {
    "colab": {
     "base_uri": "https://localhost:8080/"
    },
    "id": "f9muNg7-J9zs",
    "outputId": "2b32b136-d55f-40f5-82ac-d4258af81ec8"
   },
   "outputs": [
    {
     "data": {
      "text/plain": [
       "73"
      ]
     },
     "execution_count": 34,
     "metadata": {
      "tags": []
     },
     "output_type": "execute_result"
    }
   ],
   "source": [
    "# Garbage collector\n",
    "gc.collect()"
   ]
  },
  {
   "cell_type": "markdown",
   "metadata": {
    "id": "z001__PzAjbb"
   },
   "source": [
    "## Split Data"
   ]
  },
  {
   "cell_type": "markdown",
   "metadata": {
    "id": "I5NFOBYUsCIg"
   },
   "source": [
    "For traditional multi-class tasks (each input has one label), we want to ensure that each data split has similar class distributions. However, our task is multi-label classification  (an input can have many labels) with imbalanced class distibution which complicates the stratification process.\n",
    "\n",
    "we'll apply iterative stratification via the `skmultilearn library`, which essentially splits each input into subsets (where each label is considered individually) and then it distributes the samples starting with fewest \"positive\" samples and working up to the inputs that have the most labels."
   ]
  },
  {
   "cell_type": "code",
   "execution_count": 35,
   "metadata": {
    "id": "6xBL3tcnrbdq"
   },
   "outputs": [],
   "source": [
    "def iterative_train_test_split(X, y, train_size):\n",
    "    \"\"\"Custom iterative train test split which\n",
    "    'maintains balanced representation with respect\n",
    "    to order-th label combinations.'\n",
    "    \"\"\"\n",
    "    stratifier = IterativeStratification(n_splits=2, order=1, sample_distribution_per_fold=[1.0-train_size, train_size, ])\n",
    "    train_indices, test_indices = next(stratifier.split(X, y))\n",
    "    return train_indices,test_indices"
   ]
  },
  {
   "cell_type": "code",
   "execution_count": 36,
   "metadata": {
    "id": "r2g6c0DuFMuK"
   },
   "outputs": [],
   "source": [
    "# Split sizes\n",
    "train_size = 0.8\n",
    "test_size = 0.2\n",
    "# Split\n",
    "train_indices,test_indices = iterative_train_test_split(df_data['text_url'].values,y , train_size=train_size)\n",
    "#X_train, y_train = X[train_indices], y[train_indices]\n",
    "#X_test, y_test = X[test_indices], y[test_indices]\n",
    "df_data_train = df_data.iloc[train_indices]\n",
    "df_data_test = df_data.iloc[test_indices]"
   ]
  },
  {
   "cell_type": "code",
   "execution_count": 37,
   "metadata": {
    "colab": {
     "base_uri": "https://localhost:8080/"
    },
    "id": "ru0k77WJ_WBO",
    "outputId": "adef1a16-7212-4984-90d5-677486395ea2"
   },
   "outputs": [
    {
     "name": "stdout",
     "output_type": "stream",
     "text": [
      "45729\n"
     ]
    }
   ],
   "source": [
    "print(len(df_data_train))"
   ]
  },
  {
   "cell_type": "markdown",
   "metadata": {
    "id": "gsv-tPAc0Gxa"
   },
   "source": [
    " To deal with the imbalance, we do Random Oversampling of the training dataset on the Powerset labels."
   ]
  },
  {
   "cell_type": "code",
   "execution_count": 38,
   "metadata": {
    "id": "nA4V3K_K7uIP"
   },
   "outputs": [],
   "source": [
    "powercount = {}\n",
    "powerlabels = np.unique(df_data_train['powerlabel'])\n",
    "for p in powerlabels:\n",
    "    powercount[p] = np.count_nonzero(df_data_train['powerlabel']==p)\n",
    "\n",
    "maxcount = np.max(list(powercount.values()))\n",
    "for p in powerlabels:\n",
    "    gapnum = maxcount - powercount[p]\n",
    "    temp_df = df_data_train.iloc[np.random.choice(np.where(df_data_train['powerlabel']==p)[0],size=gapnum)]\n",
    "    df_data_train = df_data_train.append(temp_df,ignore_index=True)\n",
    "df_data_train = df_data_train.sample(frac=1).reset_index(drop=True)  \n"
   ]
  },
  {
   "cell_type": "code",
   "execution_count": 39,
   "metadata": {
    "colab": {
     "base_uri": "https://localhost:8080/",
     "height": 282
    },
    "id": "ALn0DC8Z9_9X",
    "outputId": "90134374-a409-4d56-fd56-a7984b875c44"
   },
   "outputs": [
    {
     "data": {
      "text/plain": [
       "<matplotlib.axes._subplots.AxesSubplot at 0x7f3c3a08ae50>"
      ]
     },
     "execution_count": 39,
     "metadata": {
      "tags": []
     },
     "output_type": "execute_result"
    },
    {
     "data": {
      "image/png": "[encoded data removed]",
      "text/plain": [
       "<Figure size 432x288 with 1 Axes>"
      ]
     },
     "metadata": {
      "needs_background": "light",
      "tags": []
     },
     "output_type": "display_data"
    }
   ],
   "source": [
    "df_data_train['powerlabel'].hist(bins=np.unique(df_data_train['powerlabel']))"
   ]
  },
  {
   "cell_type": "code",
   "execution_count": 40,
   "metadata": {
    "colab": {
     "base_uri": "https://localhost:8080/",
     "height": 387
    },
    "id": "TT3ieg8__05u",
    "outputId": "da4d5f61-e0ec-4309-f7ba-73d85e3ba9d8"
   },
   "outputs": [
    {
     "name": "stdout",
     "output_type": "stream",
     "text": [
      "minimum number of occurrences in train set: 2688\n",
      "maximum number of occurrences in train set: 114096\n",
      "mean number of occurrences in train set: 16723.625\n"
     ]
    },
    {
     "data": {
      "image/png": "[encoded data removed]",
      "text/plain": [
       "<Figure size 432x288 with 1 Axes>"
      ]
     },
     "metadata": {
      "needs_background": "light",
      "tags": []
     },
     "output_type": "display_data"
    }
   ],
   "source": [
    "count = np.array([np.array(x) for x in df_data_train.tags]).sum(axis=0)\n",
    "print('minimum number of occurrences in train set:', min(count) )\n",
    "print('maximum number of occurrences in train set:', max(count) )\n",
    "print('mean number of occurrences in train set:', count.mean() )\n",
    "\n",
    "# we plot the number of occurrences of each class\n",
    "fig = plt.figure()\n",
    "ax = fig.add_axes([0,0,1,1])\n",
    "ax.bar(range(len(count)),count)\n",
    "gc.collect()\n",
    "plt.show()"
   ]
  },
  {
   "cell_type": "code",
   "execution_count": 41,
   "metadata": {
    "colab": {
     "base_uri": "https://localhost:8080/"
    },
    "id": "7bNkMm-MGkrq",
    "outputId": "be09da0d-a3d7-4683-bc44-a82b3bd81882"
   },
   "outputs": [
    {
     "name": "stdout",
     "output_type": "stream",
     "text": [
      "The number of rows in the new dataset:  664137\n"
     ]
    }
   ],
   "source": [
    "print('The number of rows in the new dataset: ',len(df_data_train))"
   ]
  },
  {
   "cell_type": "code",
   "execution_count": 42,
   "metadata": {
    "id": "pJa0k5aOEkVa"
   },
   "outputs": [],
   "source": [
    "X_train = df_data_train.text_url\n",
    "y_train = df_data_train.tags\n",
    "X_test = df_data_test.text_url\n",
    "y_test = df_data_test.tags"
   ]
  },
  {
   "cell_type": "markdown",
   "metadata": {
    "id": "0kqYkmy6qBqV"
   },
   "source": [
    "## Model"
   ]
  },
  {
   "cell_type": "markdown",
   "metadata": {
    "id": "HvpWz0ChMBcF"
   },
   "source": [
    "As most of the words are in french ( because the sites are french), I will use a camemBert to predict the labels of each URL.\n",
    "\n",
    "Like all transformers of the bert family, we have to go through the tokenizer first "
   ]
  },
  {
   "cell_type": "code",
   "execution_count": 43,
   "metadata": {
    "colab": {
     "base_uri": "https://localhost:8080/",
     "height": 246,
     "referenced_widgets": [
      "6c0819f102ff4cfd80bbe2e4b1abcf45",
      "c7e43e42d3be43f2bfa57dd3fb195484",
      "5b5f0762302340c1958424d83e50412d",
      "2a52e2f61c2148438469f532cb123013",
      "78f309ba45ce429aaf4bf3f9b3f7db79",
      "10ae617a331d4a74a80d25f38ee5e32a",
      "f1462a9f76c248819a0a3360cc09c56a",
      "11d1e6a30892425abc5bfc3d56577122",
      "779efa8606444508bca4262db09224b7",
      "9a33fd89e3234ba49886e80d546481a9",
      "d32cafe3113643e6917e4ce23cd2b9ba",
      "c7f8c04eb02c42aa82a5bb14878d501b",
      "491ada83c68f44fab73ce0e70b41236b",
      "33c7738476d14fbbb238b4482782f11f",
      "d757cf73ba3c4fbca96dc9896944cf10",
      "435f2526c7e14e0e9ed765e7ab8ef086",
      "e92e4a66aa114e008245a55ee601e9db",
      "89a87e9b6e59438b9f9ac3fe5ba65b68",
      "a7c9fec64a424b6195a7ea2ccf0aa9fe",
      "830df6dd191a43e7b387f500cb92c78c",
      "802e476f1d92426d9f7a6c4d2e82237d",
      "2fd83cead83248c499d69bde96d742f1",
      "7f50d2a7f3ae44d19851593736fd16a7",
      "718c93090b67430aa4a9bf8c22548e5b"
     ]
    },
    "id": "EpND5mnYH2l5",
    "outputId": "297e1805-3700-47e7-9b1f-45507f535fab"
   },
   "outputs": [
    {
     "data": {
      "application/vnd.jupyter.widget-view+json": {
       "model_id": "6c0819f102ff4cfd80bbe2e4b1abcf45",
       "version_major": 2,
       "version_minor": 0
      },
      "text/plain": [
       "HBox(children=(FloatProgress(value=0.0, description='Downloading', max=508.0, style=ProgressStyle(description_…"
      ]
     },
     "metadata": {
      "tags": []
     },
     "output_type": "display_data"
    },
    {
     "name": "stdout",
     "output_type": "stream",
     "text": [
      "\n"
     ]
    },
    {
     "data": {
      "application/vnd.jupyter.widget-view+json": {
       "model_id": "779efa8606444508bca4262db09224b7",
       "version_major": 2,
       "version_minor": 0
      },
      "text/plain": [
       "HBox(children=(FloatProgress(value=0.0, description='Downloading', max=810912.0, style=ProgressStyle(descripti…"
      ]
     },
     "metadata": {
      "tags": []
     },
     "output_type": "display_data"
    },
    {
     "name": "stdout",
     "output_type": "stream",
     "text": [
      "\n"
     ]
    },
    {
     "data": {
      "application/vnd.jupyter.widget-view+json": {
       "model_id": "e92e4a66aa114e008245a55ee601e9db",
       "version_major": 2,
       "version_minor": 0
      },
      "text/plain": [
       "HBox(children=(FloatProgress(value=0.0, description='Downloading', max=1395301.0, style=ProgressStyle(descript…"
      ]
     },
     "metadata": {
      "tags": []
     },
     "output_type": "display_data"
    },
    {
     "name": "stdout",
     "output_type": "stream",
     "text": [
      "\n"
     ]
    },
    {
     "name": "stderr",
     "output_type": "stream",
     "text": [
      "Truncation was not explicitly activated but `max_length` is provided a specific value, please use `truncation=True` to explicitly truncate examples to max length. Defaulting to 'longest_first' truncation strategy. If you encode pairs of sequences (GLUE-style) with the tokenizer you can select this strategy more precisely by providing a specific strategy to `truncation`.\n",
      "/usr/local/lib/python3.7/dist-packages/transformers/tokenization_utils_base.py:2190: FutureWarning: The `pad_to_max_length` argument is deprecated and will be removed in a future version, use `padding=True` or `padding='longest'` to pad to the longest sequence in the batch, or use `padding='max_length'` to pad to a max length. In this case, you can give a specific length with `max_length` (e.g. `max_length=45`) or leave max_length to None to pad to the maximal input size of the model (e.g. 512 for Bert).\n",
      "  FutureWarning,\n"
     ]
    },
    {
     "name": "stdout",
     "output_type": "stream",
     "text": [
      "tokenizer outputs:  dict_keys(['input_ids', 'attention_mask'])\n"
     ]
    }
   ],
   "source": [
    "max_length = 30\n",
    "tokenizer = AutoTokenizer.from_pretrained(\"camembert-base\", do_lower_case=True) # tokenizer\n",
    "encodings_train = tokenizer.batch_encode_plus(list(X_train),max_length=max_length,pad_to_max_length=True) # tokenizer's encoding method\n",
    "encodings_test = tokenizer.batch_encode_plus(list(X_test),max_length=max_length,pad_to_max_length=True) # tokenizer's encoding method\n",
    "print('tokenizer outputs: ', encodings_train.keys())"
   ]
  },
  {
   "cell_type": "code",
   "execution_count": 44,
   "metadata": {
    "id": "vBX0tcRCFUU0"
   },
   "outputs": [],
   "source": [
    "# converting labels form list of list  to numpy array\n",
    "y_train = np.array([np.array(x) for x in df_data_train.tags])\n",
    "y_test = np.array([np.array(x) for x in df_data_test.tags])"
   ]
  },
  {
   "cell_type": "code",
   "execution_count": 45,
   "metadata": {
    "id": "Qk4T1JctR6qd"
   },
   "outputs": [],
   "source": [
    "\n",
    "# Convert all of our data into torch tensors, the required datatype for our model\n",
    "train_inputs = torch.tensor(encodings_train['input_ids']) # tokenized and encoded sentences\n",
    "train_labels = torch.tensor(y_train)\n",
    "train_masks = torch.tensor(encodings_train['attention_mask']) # attention masks\n",
    "\n",
    "test_inputs = torch.tensor(encodings_test['input_ids']) # tokenized and encoded sentences\n",
    "test_labels = torch.tensor(y_test)\n",
    "test_masks = torch.tensor(encodings_test['attention_mask']) # attention masks\n"
   ]
  },
  {
   "cell_type": "code",
   "execution_count": 46,
   "metadata": {
    "id": "lPx697L_PxZU"
   },
   "outputs": [],
   "source": [
    "# Select a batch size for training. For fine-tuning with CamemBert, the authors recommend a batch size of 32, 48, or 128. We will use 48 here to avoid memory issues.\n",
    "batch_size = 48\n",
    "\n",
    "# Create an iterator of our data with torch DataLoader. This helps save on memory during training because, unlike a for loop, \n",
    "# with an iterator the entire dataset does not need to be loaded into memory\n",
    "\n",
    "train_data = TensorDataset(train_inputs, train_masks, train_labels)\n",
    "train_sampler = RandomSampler(train_data)\n",
    "train_dataloader = DataLoader(train_data, sampler=train_sampler, batch_size=batch_size)\n",
    "\n",
    "test_data = TensorDataset(test_inputs, test_masks, test_labels)\n",
    "test_sampler = SequentialSampler(test_data)\n",
    "test_dataloader = DataLoader(test_data, sampler=test_sampler, batch_size=batch_size)"
   ]
  },
  {
   "cell_type": "code",
   "execution_count": 47,
   "metadata": {
    "colab": {
     "base_uri": "https://localhost:8080/"
    },
    "id": "PhmSzcs4L7wT",
    "outputId": "4fe85825-ffba-41d6-f75f-664e0316583e"
   },
   "outputs": [
    {
     "name": "stdout",
     "output_type": "stream",
     "text": [
      "Mounted at /content/drive\n"
     ]
    }
   ],
   "source": [
    "# Connecting to drive to save the dataloaders\n",
    "drive.mount('/content/drive')\n",
    "# saving data loaders\n",
    "torch.save(test_dataloader,'drive/MyDrive/validation_data_loader')\n",
    "torch.save(train_dataloader,'drive/MyDrive/train_data_loader')\n",
    "# saving label_encoder\n",
    "label_encoder_reduced.save('drive/MyDrive/label_encoder')\n",
    "# saving count of each class ( that will be useful for training)\n",
    "count.tofile('drive/MyDrive/count.dat')\n",
    "# donwloading dataloaders on local\n",
    "#files.download('validation_data_loader') \n",
    "#files.download('train_data_loader') "
   ]
  },
  {
   "cell_type": "code",
   "execution_count": 48,
   "metadata": {
    "colab": {
     "base_uri": "https://localhost:8080/"
    },
    "id": "GozdacK4anw5",
    "outputId": "766ec8ef-1648-4f00-e672-25b2d2fd9edd"
   },
   "outputs": [
    {
     "data": {
      "text/plain": [
       "297"
      ]
     },
     "execution_count": 48,
     "metadata": {
      "tags": []
     },
     "output_type": "execute_result"
    }
   ],
   "source": [
    "gc.collect()"
   ]
  },
  {
   "cell_type": "markdown",
   "metadata": {
    "id": "-oq38nfXNTlp"
   },
   "source": [
    "Now that the data is ready for training and stored in drive we can start training"
   ]
  },
  {
   "cell_type": "code",
   "execution_count": 49,
   "metadata": {
    "id": "uNieH3HyOe-x"
   },
   "outputs": [],
   "source": [
    "# Connecting to drive to save the dataloaders\n",
    "#drive.mount('/content/drive')\n",
    "# Getting data for training\n",
    "count = np.fromfile('drive/MyDrive/count.dat', dtype=int)\n",
    "test_dataloader = torch.load('drive/MyDrive/validation_data_loader')\n",
    "train_dataloader = torch.load('drive/MyDrive/train_data_loader')\n",
    "label_encoder = LabelEncoder()\n",
    "label_encoder.load('drive/MyDrive/label_encoder')"
   ]
  },
  {
   "cell_type": "code",
   "execution_count": 50,
   "metadata": {
    "colab": {
     "base_uri": "https://localhost:8080/"
    },
    "id": "0Ll1VMkzL3gO",
    "outputId": "2a511432-ab27-4cdf-dfed-211541cc14a7"
   },
   "outputs": [
    {
     "name": "stdout",
     "output_type": "stream",
     "text": [
      "Number of classes:  144\n"
     ]
    }
   ],
   "source": [
    "num_labels = len(label_encoder)\n",
    "print(\"Number of classes: \",num_labels)"
   ]
  },
  {
   "cell_type": "code",
   "execution_count": 51,
   "metadata": {
    "colab": {
     "base_uri": "https://localhost:8080/",
     "height": 1000,
     "referenced_widgets": [
      "5470e73fa4464a21bddf0f649f3384f3",
      "bfef7ee98f5045f0a696f15d79161738",
      "32d1464045284bc18414b33247c1e8e0",
      "2de9497612aa486bbe6c6ff6e95b0d50",
      "2f4d26b2b1c9476fb7276fdfd31e11cc",
      "7114f161315e4ac79f90f6edd280b6da",
      "6f5eed313597487580b0de792256ccf3",
      "8a231fb1af7a4f5cb8799260ffb531e8"
     ]
    },
    "id": "Og7KoYQhTYWw",
    "outputId": "2e36e5c4-0e17-4a73-f166-726c27bd9b92"
   },
   "outputs": [
    {
     "data": {
      "application/vnd.jupyter.widget-view+json": {
       "model_id": "5470e73fa4464a21bddf0f649f3384f3",
       "version_major": 2,
       "version_minor": 0
      },
      "text/plain": [
       "HBox(children=(FloatProgress(value=0.0, description='Downloading', max=445032417.0, style=ProgressStyle(descri…"
      ]
     },
     "metadata": {
      "tags": []
     },
     "output_type": "display_data"
    },
    {
     "name": "stdout",
     "output_type": "stream",
     "text": [
      "\n"
     ]
    },
    {
     "name": "stderr",
     "output_type": "stream",
     "text": [
      "Some weights of the model checkpoint at camembert-base were not used when initializing CamembertForSequenceClassification: ['lm_head.dense.weight', 'lm_head.dense.bias', 'roberta.pooler.dense.bias', 'roberta.pooler.dense.weight', 'lm_head.bias', 'lm_head.layer_norm.bias', 'lm_head.layer_norm.weight', 'lm_head.decoder.weight']\n",
      "- This IS expected if you are initializing CamembertForSequenceClassification from the checkpoint of a model trained on another task or with another architecture (e.g. initializing a BertForSequenceClassification model from a BertForPreTraining model).\n",
      "- This IS NOT expected if you are initializing CamembertForSequenceClassification from the checkpoint of a model that you expect to be exactly identical (initializing a BertForSequenceClassification model from a BertForSequenceClassification model).\n",
      "Some weights of CamembertForSequenceClassification were not initialized from the model checkpoint at camembert-base and are newly initialized: ['classifier.dense.bias', 'classifier.out_proj.bias', 'classifier.out_proj.weight', 'classifier.dense.weight']\n",
      "You should probably TRAIN this model on a down-stream task to be able to use it for predictions and inference.\n"
     ]
    },
    {
     "data": {
      "text/plain": [
       "CamembertForSequenceClassification(\n",
       "  (roberta): RobertaModel(\n",
       "    (embeddings): RobertaEmbeddings(\n",
       "      (word_embeddings): Embedding(32005, 768, padding_idx=1)\n",
       "      (position_embeddings): Embedding(514, 768, padding_idx=1)\n",
       "      (token_type_embeddings): Embedding(1, 768)\n",
       "      (LayerNorm): LayerNorm((768,), eps=1e-05, elementwise_affine=True)\n",
       "      (dropout): Dropout(p=0.1, inplace=False)\n",
       "    )\n",
       "    (encoder): RobertaEncoder(\n",
       "      (layer): ModuleList(\n",
       "        (0): RobertaLayer(\n",
       "          (attention): RobertaAttention(\n",
       "            (self): RobertaSelfAttention(\n",
       "              (query): Linear(in_features=768, out_features=768, bias=True)\n",
       "              (key): Linear(in_features=768, out_features=768, bias=True)\n",
       "              (value): Linear(in_features=768, out_features=768, bias=True)\n",
       "              (dropout): Dropout(p=0.1, inplace=False)\n",
       "            )\n",
       "            (output): RobertaSelfOutput(\n",
       "              (dense): Linear(in_features=768, out_features=768, bias=True)\n",
       "              (LayerNorm): LayerNorm((768,), eps=1e-05, elementwise_affine=True)\n",
       "              (dropout): Dropout(p=0.1, inplace=False)\n",
       "            )\n",
       "          )\n",
       "          (intermediate): RobertaIntermediate(\n",
       "            (dense): Linear(in_features=768, out_features=3072, bias=True)\n",
       "          )\n",
       "          (output): RobertaOutput(\n",
       "            (dense): Linear(in_features=3072, out_features=768, bias=True)\n",
       "            (LayerNorm): LayerNorm((768,), eps=1e-05, elementwise_affine=True)\n",
       "            (dropout): Dropout(p=0.1, inplace=False)\n",
       "          )\n",
       "        )\n",
       "        (1): RobertaLayer(\n",
       "          (attention): RobertaAttention(\n",
       "            (self): RobertaSelfAttention(\n",
       "              (query): Linear(in_features=768, out_features=768, bias=True)\n",
       "              (key): Linear(in_features=768, out_features=768, bias=True)\n",
       "              (value): Linear(in_features=768, out_features=768, bias=True)\n",
       "              (dropout): Dropout(p=0.1, inplace=False)\n",
       "            )\n",
       "            (output): RobertaSelfOutput(\n",
       "              (dense): Linear(in_features=768, out_features=768, bias=True)\n",
       "              (LayerNorm): LayerNorm((768,), eps=1e-05, elementwise_affine=True)\n",
       "              (dropout): Dropout(p=0.1, inplace=False)\n",
       "            )\n",
       "          )\n",
       "          (intermediate): RobertaIntermediate(\n",
       "            (dense): Linear(in_features=768, out_features=3072, bias=True)\n",
       "          )\n",
       "          (output): RobertaOutput(\n",
       "            (dense): Linear(in_features=3072, out_features=768, bias=True)\n",
       "            (LayerNorm): LayerNorm((768,), eps=1e-05, elementwise_affine=True)\n",
       "            (dropout): Dropout(p=0.1, inplace=False)\n",
       "          )\n",
       "        )\n",
       "        (2): RobertaLayer(\n",
       "          (attention): RobertaAttention(\n",
       "            (self): RobertaSelfAttention(\n",
       "              (query): Linear(in_features=768, out_features=768, bias=True)\n",
       "              (key): Linear(in_features=768, out_features=768, bias=True)\n",
       "              (value): Linear(in_features=768, out_features=768, bias=True)\n",
       "              (dropout): Dropout(p=0.1, inplace=False)\n",
       "            )\n",
       "            (output): RobertaSelfOutput(\n",
       "              (dense): Linear(in_features=768, out_features=768, bias=True)\n",
       "              (LayerNorm): LayerNorm((768,), eps=1e-05, elementwise_affine=True)\n",
       "              (dropout): Dropout(p=0.1, inplace=False)\n",
       "            )\n",
       "          )\n",
       "          (intermediate): RobertaIntermediate(\n",
       "            (dense): Linear(in_features=768, out_features=3072, bias=True)\n",
       "          )\n",
       "          (output): RobertaOutput(\n",
       "            (dense): Linear(in_features=3072, out_features=768, bias=True)\n",
       "            (LayerNorm): LayerNorm((768,), eps=1e-05, elementwise_affine=True)\n",
       "            (dropout): Dropout(p=0.1, inplace=False)\n",
       "          )\n",
       "        )\n",
       "        (3): RobertaLayer(\n",
       "          (attention): RobertaAttention(\n",
       "            (self): RobertaSelfAttention(\n",
       "              (query): Linear(in_features=768, out_features=768, bias=True)\n",
       "              (key): Linear(in_features=768, out_features=768, bias=True)\n",
       "              (value): Linear(in_features=768, out_features=768, bias=True)\n",
       "              (dropout): Dropout(p=0.1, inplace=False)\n",
       "            )\n",
       "            (output): RobertaSelfOutput(\n",
       "              (dense): Linear(in_features=768, out_features=768, bias=True)\n",
       "              (LayerNorm): LayerNorm((768,), eps=1e-05, elementwise_affine=True)\n",
       "              (dropout): Dropout(p=0.1, inplace=False)\n",
       "            )\n",
       "          )\n",
       "          (intermediate): RobertaIntermediate(\n",
       "            (dense): Linear(in_features=768, out_features=3072, bias=True)\n",
       "          )\n",
       "          (output): RobertaOutput(\n",
       "            (dense): Linear(in_features=3072, out_features=768, bias=True)\n",
       "            (LayerNorm): LayerNorm((768,), eps=1e-05, elementwise_affine=True)\n",
       "            (dropout): Dropout(p=0.1, inplace=False)\n",
       "          )\n",
       "        )\n",
       "        (4): RobertaLayer(\n",
       "          (attention): RobertaAttention(\n",
       "            (self): RobertaSelfAttention(\n",
       "              (query): Linear(in_features=768, out_features=768, bias=True)\n",
       "              (key): Linear(in_features=768, out_features=768, bias=True)\n",
       "              (value): Linear(in_features=768, out_features=768, bias=True)\n",
       "              (dropout): Dropout(p=0.1, inplace=False)\n",
       "            )\n",
       "            (output): RobertaSelfOutput(\n",
       "              (dense): Linear(in_features=768, out_features=768, bias=True)\n",
       "              (LayerNorm): LayerNorm((768,), eps=1e-05, elementwise_affine=True)\n",
       "              (dropout): Dropout(p=0.1, inplace=False)\n",
       "            )\n",
       "          )\n",
       "          (intermediate): RobertaIntermediate(\n",
       "            (dense): Linear(in_features=768, out_features=3072, bias=True)\n",
       "          )\n",
       "          (output): RobertaOutput(\n",
       "            (dense): Linear(in_features=3072, out_features=768, bias=True)\n",
       "            (LayerNorm): LayerNorm((768,), eps=1e-05, elementwise_affine=True)\n",
       "            (dropout): Dropout(p=0.1, inplace=False)\n",
       "          )\n",
       "        )\n",
       "        (5): RobertaLayer(\n",
       "          (attention): RobertaAttention(\n",
       "            (self): RobertaSelfAttention(\n",
       "              (query): Linear(in_features=768, out_features=768, bias=True)\n",
       "              (key): Linear(in_features=768, out_features=768, bias=True)\n",
       "              (value): Linear(in_features=768, out_features=768, bias=True)\n",
       "              (dropout): Dropout(p=0.1, inplace=False)\n",
       "            )\n",
       "            (output): RobertaSelfOutput(\n",
       "              (dense): Linear(in_features=768, out_features=768, bias=True)\n",
       "              (LayerNorm): LayerNorm((768,), eps=1e-05, elementwise_affine=True)\n",
       "              (dropout): Dropout(p=0.1, inplace=False)\n",
       "            )\n",
       "          )\n",
       "          (intermediate): RobertaIntermediate(\n",
       "            (dense): Linear(in_features=768, out_features=3072, bias=True)\n",
       "          )\n",
       "          (output): RobertaOutput(\n",
       "            (dense): Linear(in_features=3072, out_features=768, bias=True)\n",
       "            (LayerNorm): LayerNorm((768,), eps=1e-05, elementwise_affine=True)\n",
       "            (dropout): Dropout(p=0.1, inplace=False)\n",
       "          )\n",
       "        )\n",
       "        (6): RobertaLayer(\n",
       "          (attention): RobertaAttention(\n",
       "            (self): RobertaSelfAttention(\n",
       "              (query): Linear(in_features=768, out_features=768, bias=True)\n",
       "              (key): Linear(in_features=768, out_features=768, bias=True)\n",
       "              (value): Linear(in_features=768, out_features=768, bias=True)\n",
       "              (dropout): Dropout(p=0.1, inplace=False)\n",
       "            )\n",
       "            (output): RobertaSelfOutput(\n",
       "              (dense): Linear(in_features=768, out_features=768, bias=True)\n",
       "              (LayerNorm): LayerNorm((768,), eps=1e-05, elementwise_affine=True)\n",
       "              (dropout): Dropout(p=0.1, inplace=False)\n",
       "            )\n",
       "          )\n",
       "          (intermediate): RobertaIntermediate(\n",
       "            (dense): Linear(in_features=768, out_features=3072, bias=True)\n",
       "          )\n",
       "          (output): RobertaOutput(\n",
       "            (dense): Linear(in_features=3072, out_features=768, bias=True)\n",
       "            (LayerNorm): LayerNorm((768,), eps=1e-05, elementwise_affine=True)\n",
       "            (dropout): Dropout(p=0.1, inplace=False)\n",
       "          )\n",
       "        )\n",
       "        (7): RobertaLayer(\n",
       "          (attention): RobertaAttention(\n",
       "            (self): RobertaSelfAttention(\n",
       "              (query): Linear(in_features=768, out_features=768, bias=True)\n",
       "              (key): Linear(in_features=768, out_features=768, bias=True)\n",
       "              (value): Linear(in_features=768, out_features=768, bias=True)\n",
       "              (dropout): Dropout(p=0.1, inplace=False)\n",
       "            )\n",
       "            (output): RobertaSelfOutput(\n",
       "              (dense): Linear(in_features=768, out_features=768, bias=True)\n",
       "              (LayerNorm): LayerNorm((768,), eps=1e-05, elementwise_affine=True)\n",
       "              (dropout): Dropout(p=0.1, inplace=False)\n",
       "            )\n",
       "          )\n",
       "          (intermediate): RobertaIntermediate(\n",
       "            (dense): Linear(in_features=768, out_features=3072, bias=True)\n",
       "          )\n",
       "          (output): RobertaOutput(\n",
       "            (dense): Linear(in_features=3072, out_features=768, bias=True)\n",
       "            (LayerNorm): LayerNorm((768,), eps=1e-05, elementwise_affine=True)\n",
       "            (dropout): Dropout(p=0.1, inplace=False)\n",
       "          )\n",
       "        )\n",
       "        (8): RobertaLayer(\n",
       "          (attention): RobertaAttention(\n",
       "            (self): RobertaSelfAttention(\n",
       "              (query): Linear(in_features=768, out_features=768, bias=True)\n",
       "              (key): Linear(in_features=768, out_features=768, bias=True)\n",
       "              (value): Linear(in_features=768, out_features=768, bias=True)\n",
       "              (dropout): Dropout(p=0.1, inplace=False)\n",
       "            )\n",
       "            (output): RobertaSelfOutput(\n",
       "              (dense): Linear(in_features=768, out_features=768, bias=True)\n",
       "              (LayerNorm): LayerNorm((768,), eps=1e-05, elementwise_affine=True)\n",
       "              (dropout): Dropout(p=0.1, inplace=False)\n",
       "            )\n",
       "          )\n",
       "          (intermediate): RobertaIntermediate(\n",
       "            (dense): Linear(in_features=768, out_features=3072, bias=True)\n",
       "          )\n",
       "          (output): RobertaOutput(\n",
       "            (dense): Linear(in_features=3072, out_features=768, bias=True)\n",
       "            (LayerNorm): LayerNorm((768,), eps=1e-05, elementwise_affine=True)\n",
       "            (dropout): Dropout(p=0.1, inplace=False)\n",
       "          )\n",
       "        )\n",
       "        (9): RobertaLayer(\n",
       "          (attention): RobertaAttention(\n",
       "            (self): RobertaSelfAttention(\n",
       "              (query): Linear(in_features=768, out_features=768, bias=True)\n",
       "              (key): Linear(in_features=768, out_features=768, bias=True)\n",
       "              (value): Linear(in_features=768, out_features=768, bias=True)\n",
       "              (dropout): Dropout(p=0.1, inplace=False)\n",
       "            )\n",
       "            (output): RobertaSelfOutput(\n",
       "              (dense): Linear(in_features=768, out_features=768, bias=True)\n",
       "              (LayerNorm): LayerNorm((768,), eps=1e-05, elementwise_affine=True)\n",
       "              (dropout): Dropout(p=0.1, inplace=False)\n",
       "            )\n",
       "          )\n",
       "          (intermediate): RobertaIntermediate(\n",
       "            (dense): Linear(in_features=768, out_features=3072, bias=True)\n",
       "          )\n",
       "          (output): RobertaOutput(\n",
       "            (dense): Linear(in_features=3072, out_features=768, bias=True)\n",
       "            (LayerNorm): LayerNorm((768,), eps=1e-05, elementwise_affine=True)\n",
       "            (dropout): Dropout(p=0.1, inplace=False)\n",
       "          )\n",
       "        )\n",
       "        (10): RobertaLayer(\n",
       "          (attention): RobertaAttention(\n",
       "            (self): RobertaSelfAttention(\n",
       "              (query): Linear(in_features=768, out_features=768, bias=True)\n",
       "              (key): Linear(in_features=768, out_features=768, bias=True)\n",
       "              (value): Linear(in_features=768, out_features=768, bias=True)\n",
       "              (dropout): Dropout(p=0.1, inplace=False)\n",
       "            )\n",
       "            (output): RobertaSelfOutput(\n",
       "              (dense): Linear(in_features=768, out_features=768, bias=True)\n",
       "              (LayerNorm): LayerNorm((768,), eps=1e-05, elementwise_affine=True)\n",
       "              (dropout): Dropout(p=0.1, inplace=False)\n",
       "            )\n",
       "          )\n",
       "          (intermediate): RobertaIntermediate(\n",
       "            (dense): Linear(in_features=768, out_features=3072, bias=True)\n",
       "          )\n",
       "          (output): RobertaOutput(\n",
       "            (dense): Linear(in_features=3072, out_features=768, bias=True)\n",
       "            (LayerNorm): LayerNorm((768,), eps=1e-05, elementwise_affine=True)\n",
       "            (dropout): Dropout(p=0.1, inplace=False)\n",
       "          )\n",
       "        )\n",
       "        (11): RobertaLayer(\n",
       "          (attention): RobertaAttention(\n",
       "            (self): RobertaSelfAttention(\n",
       "              (query): Linear(in_features=768, out_features=768, bias=True)\n",
       "              (key): Linear(in_features=768, out_features=768, bias=True)\n",
       "              (value): Linear(in_features=768, out_features=768, bias=True)\n",
       "              (dropout): Dropout(p=0.1, inplace=False)\n",
       "            )\n",
       "            (output): RobertaSelfOutput(\n",
       "              (dense): Linear(in_features=768, out_features=768, bias=True)\n",
       "              (LayerNorm): LayerNorm((768,), eps=1e-05, elementwise_affine=True)\n",
       "              (dropout): Dropout(p=0.1, inplace=False)\n",
       "            )\n",
       "          )\n",
       "          (intermediate): RobertaIntermediate(\n",
       "            (dense): Linear(in_features=768, out_features=3072, bias=True)\n",
       "          )\n",
       "          (output): RobertaOutput(\n",
       "            (dense): Linear(in_features=3072, out_features=768, bias=True)\n",
       "            (LayerNorm): LayerNorm((768,), eps=1e-05, elementwise_affine=True)\n",
       "            (dropout): Dropout(p=0.1, inplace=False)\n",
       "          )\n",
       "        )\n",
       "      )\n",
       "    )\n",
       "  )\n",
       "  (classifier): RobertaClassificationHead(\n",
       "    (dense): Linear(in_features=768, out_features=768, bias=True)\n",
       "    (dropout): Dropout(p=0.1, inplace=False)\n",
       "    (out_proj): Linear(in_features=768, out_features=144, bias=True)\n",
       "  )\n",
       ")"
      ]
     },
     "execution_count": 51,
     "metadata": {
      "tags": []
     },
     "output_type": "execute_result"
    }
   ],
   "source": [
    "# Load model, the pretrained model will include a single linear classification layer on top for classification. \n",
    "model = AutoModelForSequenceClassification.from_pretrained(\"camembert-base\", num_labels=num_labels)\n",
    "model.cuda()"
   ]
  },
  {
   "cell_type": "code",
   "execution_count": 52,
   "metadata": {
    "id": "aiAbVVOmT70a"
   },
   "outputs": [],
   "source": [
    "# setting custom optimization parameters. You may implement a scheduler here as well.\n",
    "param_optimizer = list(model.named_parameters())\n",
    "no_decay = ['bias', 'gamma', 'beta']\n",
    "optimizer_grouped_parameters = [\n",
    "    {'params': [p for n, p in param_optimizer if not any(nd in n for nd in no_decay)],\n",
    "     'weight_decay_rate': 0.01},\n",
    "    {'params': [p for n, p in param_optimizer if any(nd in n for nd in no_decay)],\n",
    "     'weight_decay_rate': 0.0}\n",
    "]"
   ]
  },
  {
   "cell_type": "code",
   "execution_count": 53,
   "metadata": {
    "id": "jKVrsxBRUGiq"
   },
   "outputs": [],
   "source": [
    "optimizer = AdamW(optimizer_grouped_parameters,lr=2e-5,correct_bias=True)\n",
    "# optimizer = AdamW(model.parameters(),lr=2e-5)  # Default optimization"
   ]
  },
  {
   "cell_type": "code",
   "execution_count": 54,
   "metadata": {
    "id": "sw_H_YG8ClCc"
   },
   "outputs": [],
   "source": [
    "def calculate_pos_weights(class_counts,lenght):\n",
    "    pos_weights = np.ones_like(class_counts)\n",
    "    neg_counts = [lenght-pos_count for pos_count in class_counts]\n",
    "    for cdx, (pos_count, neg_count) in enumerate(zip(class_counts,  neg_counts)):\n",
    "        pos_weights[cdx] = neg_count / (pos_count + 1e-5)\n",
    "\n",
    "    return torch.as_tensor(pos_weights, dtype=torch.float)"
   ]
  },
  {
   "cell_type": "code",
   "execution_count": 55,
   "metadata": {
    "colab": {
     "base_uri": "https://localhost:8080/"
    },
    "id": "nwPg4YF_Vbpr",
    "outputId": "16313da0-5a7c-4919-cd62-007e1fb2c119"
   },
   "outputs": [
    {
     "data": {
      "text/plain": [
       "664176"
      ]
     },
     "execution_count": 55,
     "metadata": {
      "tags": []
     },
     "output_type": "execute_result"
    }
   ],
   "source": [
    "len(train_dataloader) * 48"
   ]
  },
  {
   "cell_type": "code",
   "execution_count": 57,
   "metadata": {
    "colab": {
     "base_uri": "https://localhost:8080/",
     "height": 614
    },
    "id": "iAHc2rM1WyS2",
    "outputId": "f7785785-3ded-4255-c16f-135312bf513b"
   },
   "outputs": [
    {
     "data": {
      "application/javascript": [
       "\n",
       "        window._wandbApiKey = new Promise((resolve, reject) => {\n",
       "            function loadScript(url) {\n",
       "            return new Promise(function(resolve, reject) {\n",
       "                let newScript = document.createElement(\"script\");\n",
       "                newScript.onerror = reject;\n",
       "                newScript.onload = resolve;\n",
       "                document.body.appendChild(newScript);\n",
       "                newScript.src = url;\n",
       "            });\n",
       "            }\n",
       "            loadScript(\"https://cdn.jsdelivr.net/npm/postmate/build/postmate.min.js\").then(() => {\n",
       "            const iframe = document.createElement('iframe')\n",
       "            iframe.style.cssText = \"width:0;height:0;border:none\"\n",
       "            document.body.appendChild(iframe)\n",
       "            const handshake = new Postmate({\n",
       "                container: iframe,\n",
       "                url: 'https://wandb.ai/authorize'\n",
       "            });\n",
       "            const timeout = setTimeout(() => reject(\"Couldn't auto authenticate\"), 5000)\n",
       "            handshake.then(function(child) {\n",
       "                child.on('authorize', data => {\n",
       "                    clearTimeout(timeout)\n",
       "                    resolve(data)\n",
       "                });\n",
       "            });\n",
       "            })\n",
       "        });\n",
       "    "
      ],
      "text/plain": [
       "<IPython.core.display.Javascript object>"
      ]
     },
     "metadata": {
      "tags": []
     },
     "output_type": "display_data"
    },
    {
     "name": "stderr",
     "output_type": "stream",
     "text": [
      "\u001b[34m\u001b[1mwandb\u001b[0m: Appending key for api.wandb.ai to your netrc file: /root/.netrc\n"
     ]
    },
    {
     "data": {
      "text/html": [
       "\n",
       "                Tracking run with wandb version 0.11.1<br/>\n",
       "                Syncing run <strong style=\"color:#cdcd00\">faithful-vortex-5</strong> to <a href=\"https://wandb.ai\" target=\"_blank\">Weights & Biases</a> <a href=\"https://docs.wandb.com/integrations/jupyter.html\" target=\"_blank\">(Documentation)</a>.<br/>\n",
       "                Project page: <a href=\"https://wandb.ai/pika/uncategorized\" target=\"_blank\">https://wandb.ai/pika/uncategorized</a><br/>\n",
       "                Run page: <a href=\"https://wandb.ai/pika/uncategorized/runs/94wais03\" target=\"_blank\">https://wandb.ai/pika/uncategorized/runs/94wais03</a><br/>\n",
       "                Run data is saved locally in <code>/content/wandb/run-20210802_111117-94wais03</code><br/><br/>\n",
       "            "
      ],
      "text/plain": [
       "<IPython.core.display.HTML object>"
      ]
     },
     "metadata": {
      "tags": []
     },
     "output_type": "display_data"
    },
    {
     "data": {
      "text/html": [
       "<h1>Run(94wais03)</h1><iframe src=\"https://wandb.ai/pika/uncategorized/runs/94wais03\" style=\"border:none;width:100%;height:400px\"></iframe>"
      ],
      "text/plain": [
       "<wandb.sdk.wandb_run.Run at 0x7f3c1ab01bd0>"
      ]
     },
     "execution_count": 57,
     "metadata": {
      "tags": []
     },
     "output_type": "execute_result"
    }
   ],
   "source": [
    "import wandb\n",
    "wandb.init()"
   ]
  },
  {
   "cell_type": "code",
   "execution_count": null,
   "metadata": {
    "colab": {
     "base_uri": "https://localhost:8080/"
    },
    "id": "WvkbZ9gcKaod",
    "outputId": "5e206653-f372-498d-f255-b64a17f5484a"
   },
   "outputs": [
    {
     "name": "stderr",
     "output_type": "stream",
     "text": [
      "Epoch:   0%|          | 0/20 [00:00<?, ?it/s]"
     ]
    },
    {
     "name": "stdout",
     "output_type": "stream",
     "text": [
      "Train loss: 0.02552433798401657\n"
     ]
    },
    {
     "name": "stderr",
     "output_type": "stream",
     "text": [
      "Epoch:   5%|▌         | 1/20 [36:06<11:25:55, 2166.09s/it]"
     ]
    },
    {
     "name": "stdout",
     "output_type": "stream",
     "text": [
      "F1 Validation Accuracy:  60.884304673975755\n",
      "Flat Validation Accuracy:  17.17892903787549\n",
      "Train loss: 0.02462688981524576\n"
     ]
    },
    {
     "name": "stderr",
     "output_type": "stream",
     "text": [
      "Epoch:  10%|█         | 2/20 [1:12:10<10:49:41, 2165.64s/it]"
     ]
    },
    {
     "name": "stdout",
     "output_type": "stream",
     "text": [
      "F1 Validation Accuracy:  60.918056739315716\n",
      "Flat Validation Accuracy:  18.450152372659993\n",
      "Train loss: 0.024425066665211454\n"
     ]
    },
    {
     "name": "stderr",
     "output_type": "stream",
     "text": [
      "Epoch:  15%|█▌        | 3/20 [1:48:16<10:13:36, 2165.65s/it]"
     ]
    },
    {
     "name": "stdout",
     "output_type": "stream",
     "text": [
      "F1 Validation Accuracy:  61.145090044172626\n",
      "Flat Validation Accuracy:  18.04962995211145\n",
      "Train loss: 0.024207171010989417\n"
     ]
    },
    {
     "name": "stderr",
     "output_type": "stream",
     "text": [
      "Epoch:  20%|██        | 4/20 [2:24:26<9:37:50, 2166.90s/it] "
     ]
    },
    {
     "name": "stdout",
     "output_type": "stream",
     "text": [
      "F1 Validation Accuracy:  61.35388002201431\n",
      "Flat Validation Accuracy:  18.554636482368306\n",
      "Train loss: 0.02372601963940082\n"
     ]
    },
    {
     "name": "stderr",
     "output_type": "stream",
     "text": [
      "Epoch:  25%|██▌       | 5/20 [3:00:35<9:01:53, 2167.56s/it]"
     ]
    },
    {
     "name": "stdout",
     "output_type": "stream",
     "text": [
      "F1 Validation Accuracy:  61.371583353853744\n",
      "Flat Validation Accuracy:  18.850674793208533\n",
      "Train loss: 0.02369147792883307\n"
     ]
    },
    {
     "name": "stderr",
     "output_type": "stream",
     "text": [
      "Epoch:  30%|███       | 6/20 [3:36:41<8:25:41, 2167.22s/it]"
     ]
    },
    {
     "name": "stdout",
     "output_type": "stream",
     "text": [
      "F1 Validation Accuracy:  61.21967116347135\n",
      "Flat Validation Accuracy:  19.077057030909884\n",
      "Train loss: 0.02329690662844545\n"
     ]
    },
    {
     "name": "stderr",
     "output_type": "stream",
     "text": [
      "Epoch:  35%|███▌      | 7/20 [4:12:44<7:49:16, 2165.90s/it]"
     ]
    },
    {
     "name": "stdout",
     "output_type": "stream",
     "text": [
      "F1 Validation Accuracy:  61.29036199039742\n",
      "Flat Validation Accuracy:  19.08576404005224\n",
      "Train loss: 0.023032074787526707\n"
     ]
    },
    {
     "name": "stderr",
     "output_type": "stream",
     "text": [
      "Epoch:  40%|████      | 8/20 [4:48:49<7:13:06, 2165.51s/it]"
     ]
    },
    {
     "name": "stdout",
     "output_type": "stream",
     "text": [
      "F1 Validation Accuracy:  61.74391397421217\n",
      "Flat Validation Accuracy:  19.634305616020896\n",
      "Train loss: 0.022905431143278747\n"
     ]
    },
    {
     "name": "stderr",
     "output_type": "stream",
     "text": [
      "Epoch:  45%|████▌     | 9/20 [5:24:55<6:37:03, 2165.81s/it]"
     ]
    },
    {
     "name": "stdout",
     "output_type": "stream",
     "text": [
      "F1 Validation Accuracy:  61.705670961521605\n",
      "Flat Validation Accuracy:  20.330866347409664\n",
      "Train loss: 0.022579865873557186\n"
     ]
    },
    {
     "name": "stderr",
     "output_type": "stream",
     "text": [
      "Epoch:  50%|█████     | 10/20 [6:01:01<6:00:57, 2165.80s/it]"
     ]
    },
    {
     "name": "stdout",
     "output_type": "stream",
     "text": [
      "F1 Validation Accuracy:  61.617256719877375\n",
      "Flat Validation Accuracy:  19.35568132346539\n",
      "Train loss: 0.022593517093746913\n"
     ]
    },
    {
     "name": "stderr",
     "output_type": "stream",
     "text": [
      "Epoch:  55%|█████▌    | 11/20 [6:37:07<5:24:53, 2165.97s/it]"
     ]
    },
    {
     "name": "stdout",
     "output_type": "stream",
     "text": [
      "F1 Validation Accuracy:  61.57504303565459\n",
      "Flat Validation Accuracy:  19.44275141488899\n",
      "Train loss: 0.023065116417195393\n"
     ]
    },
    {
     "name": "stderr",
     "output_type": "stream",
     "text": [
      "Epoch:  60%|██████    | 12/20 [7:13:13<4:48:46, 2165.83s/it]"
     ]
    },
    {
     "name": "stdout",
     "output_type": "stream",
     "text": [
      "F1 Validation Accuracy:  61.27691165553081\n",
      "Flat Validation Accuracy:  19.79973878972573\n"
     ]
    }
   ],
   "source": [
    "# Store our loss and accuracy for plotting\n",
    "train_loss_set = []\n",
    "\n",
    "batch_size = 48\n",
    "# Number of training epochs (authors recommend between 2 and 4)\n",
    "epochs = 20\n",
    "\n",
    "# trange i a tqdm wrapper around the normal python range\n",
    "for _ in trange(epochs, desc=\"Epoch\"):\n",
    "\n",
    "  # Training\n",
    "  \n",
    "  # Set our model to training mode (as opposed to evaluation mode)\n",
    "  model.train()\n",
    "\n",
    "  # Tracking variables\n",
    "  tr_loss = 0 #running loss\n",
    "  nb_tr_examples, nb_tr_steps = 0, 0\n",
    "  \n",
    "  # Train the data for one epoch\n",
    "  for step, batch in enumerate(train_dataloader):\n",
    "    # Add batch to GPU\n",
    "    batch = tuple(t.to(device) for t in batch)\n",
    "    # Unpack the inputs from our dataloader\n",
    "    b_input_ids, b_input_mask, b_labels = batch\n",
    "    # Clear out the gradients (by default they accumulate)\n",
    "    optimizer.zero_grad()\n",
    "\n",
    "    # # Forward pass for multiclass classification\n",
    "    # outputs = model(b_input_ids, token_type_ids=None, attention_mask=b_input_mask, labels=b_labels)\n",
    "    # loss = outputs[0]\n",
    "    # logits = outputs[1]\n",
    "\n",
    "    # Forward pass for multilabel classification\n",
    "    outputs = model(b_input_ids, token_type_ids=None, attention_mask=b_input_mask)\n",
    "    logits = outputs[0]\n",
    "    loss_func = BCEWithLogitsLoss(pos_weight=calculate_pos_weights(count,len(train_dataloader) * batch_size)).to(device)\n",
    "    loss = loss_func(logits.view(-1,num_labels),b_labels.type_as(logits).view(-1,num_labels)) #convert labels to float for calculation\n",
    "    # loss_func = BCELoss() \n",
    "    # loss = loss_func(torch.sigmoid(logits.view(-1,num_labels)),b_labels.type_as(logits).view(-1,num_labels)) #convert labels to float for calculation\n",
    "    train_loss_set.append(loss.item())   \n",
    "    # Backward pass\n",
    "    loss.backward()\n",
    "    # Update parameters and take a step using the computed gradient\n",
    "    optimizer.step()\n",
    "    # scheduler.step()\n",
    "    # Update tracking variables\n",
    "    tr_loss += loss.item()\n",
    "    nb_tr_examples += b_input_ids.size(0)\n",
    "    nb_tr_steps += 1\n",
    "  wandb.log({'train-loss':tr_loss/nb_tr_steps})\n",
    "  print(\"Train loss: {}\".format(tr_loss/nb_tr_steps))\n",
    "\n",
    "###############################################################################\n",
    "\n",
    "  # Validation\n",
    "\n",
    "  # Put model in evaluation mode to evaluate loss on the validation set\n",
    "  model.eval()\n",
    "\n",
    "  # Variables to gather full output\n",
    "  logit_preds,true_labels,pred_labels,tokenized_texts = [],[],[],[]\n",
    "\n",
    "  # Predict\n",
    "  for i, batch in enumerate(test_dataloader):\n",
    "    batch = tuple(t.to(device) for t in batch)\n",
    "    # Unpack the inputs from our dataloader\n",
    "    b_input_ids, b_input_mask, b_labels = batch\n",
    "    with torch.no_grad():\n",
    "      # Forward pass\n",
    "      outs = model(b_input_ids, token_type_ids=None, attention_mask=b_input_mask)\n",
    "      b_logit_pred = outs[0]\n",
    "      pred_label = torch.sigmoid(b_logit_pred)\n",
    "\n",
    "      b_logit_pred = b_logit_pred.detach().cpu().numpy()\n",
    "      pred_label = pred_label.to('cpu').numpy()\n",
    "      b_labels = b_labels.to('cpu').numpy()\n",
    "\n",
    "    tokenized_texts.append(b_input_ids)\n",
    "    logit_preds.append(b_logit_pred)\n",
    "    true_labels.append(b_labels)\n",
    "    pred_labels.append(pred_label)\n",
    "\n",
    "  # Flatten outputs\n",
    "  pred_labels = [item for sublist in pred_labels for item in sublist]\n",
    "  true_labels = [item for sublist in true_labels for item in sublist]\n",
    "\n",
    "  # Calculate Accuracy\n",
    "  threshold = 0.50\n",
    "  pred_bools = [pl>threshold for pl in pred_labels]\n",
    "  true_bools = [tl==1 for tl in true_labels]\n",
    "  val_f1_accuracy = f1_score(true_bools,pred_bools,average='micro')*100\n",
    "  val_flat_accuracy = accuracy_score(true_bools, pred_bools)*100\n",
    "  wandb.log({'f1_accuracy':val_f1_accuracy})\n",
    "  wandb.log({'flat_accuracy':val_flat_accuracy})\n",
    "\n",
    "  print('F1 Validation Accuracy: ', val_f1_accuracy)\n",
    "  print('Flat Validation Accuracy: ', val_flat_accuracy)"
   ]
  },
  {
   "cell_type": "code",
   "execution_count": 62,
   "metadata": {
    "id": "kUswoudwbIJu"
   },
   "outputs": [],
   "source": [
    "torch.save(model, 'drive/MyDrive/camemBert_model_URLs')"
   ]
  },
  {
   "cell_type": "markdown",
   "metadata": {
    "id": "sJ5P-dRQp7Xl"
   },
   "source": [
    "Optimizing threshold value for micro F1 score !! "
   ]
  }
 ],
 "metadata": {
  "accelerator": "GPU",
  "colab": {
   "collapsed_sections": [],
   "machine_shape": "hm",
   "name": "Copie de URLs Categorization.ipynb",
   "provenance": []
  },
  "kernelspec": {
   "display_name": "Python 3",
   "language": "python",
   "name": "python3"
  },
  "language_info": {
   "codemirror_mode": {
    "name": "ipython",
    "version": 3
   },
   "file_extension": ".py",
   "mimetype": "text/x-python",
   "name": "python",
   "nbconvert_exporter": "python",
   "pygments_lexer": "ipython3",
   "version": "3.8.5"
  },
  "widgets": {
   "application/vnd.jupyter.widget-state+json": {
    "10ae617a331d4a74a80d25f38ee5e32a": {
     "model_module": "@jupyter-widgets/base",
     "model_name": "LayoutModel",
     "state": {
      "_model_module": "@jupyter-widgets/base",
      "_model_module_version": "1.2.0",
      "_model_name": "LayoutModel",
      "_view_count": null,
      "_view_module": "@jupyter-widgets/base",
      "_view_module_version": "1.2.0",
      "_view_name": "LayoutView",
      "align_content": null,
      "align_items": null,
      "align_self": null,
      "border": null,
      "bottom": null,
      "display": null,
      "flex": null,
      "flex_flow": null,
      "grid_area": null,
      "grid_auto_columns": null,
      "grid_auto_flow": null,
      "grid_auto_rows": null,
      "grid_column": null,
      "grid_gap": null,
      "grid_row": null,
      "grid_template_areas": null,
      "grid_template_columns": null,
      "grid_template_rows": null,
      "height": null,
      "justify_content": null,
      "justify_items": null,
      "left": null,
      "margin": null,
      "max_height": null,
      "max_width": null,
      "min_height": null,
      "min_width": null,
      "object_fit": null,
      "object_position": null,
      "order": null,
      "overflow": null,
      "overflow_x": null,
      "overflow_y": null,
      "padding": null,
      "right": null,
      "top": null,
      "visibility": null,
      "width": null
     }
    },
    "11d1e6a30892425abc5bfc3d56577122": {
     "model_module": "@jupyter-widgets/base",
     "model_name": "LayoutModel",
     "state": {
      "_model_module": "@jupyter-widgets/base",
      "_model_module_version": "1.2.0",
      "_model_name": "LayoutModel",
      "_view_count": null,
      "_view_module": "@jupyter-widgets/base",
      "_view_module_version": "1.2.0",
      "_view_name": "LayoutView",
      "align_content": null,
      "align_items": null,
      "align_self": null,
      "border": null,
      "bottom": null,
      "display": null,
      "flex": null,
      "flex_flow": null,
      "grid_area": null,
      "grid_auto_columns": null,
      "grid_auto_flow": null,
      "grid_auto_rows": null,
      "grid_column": null,
      "grid_gap": null,
      "grid_row": null,
      "grid_template_areas": null,
      "grid_template_columns": null,
      "grid_template_rows": null,
      "height": null,
      "justify_content": null,
      "justify_items": null,
      "left": null,
      "margin": null,
      "max_height": null,
      "max_width": null,
      "min_height": null,
      "min_width": null,
      "object_fit": null,
      "object_position": null,
      "order": null,
      "overflow": null,
      "overflow_x": null,
      "overflow_y": null,
      "padding": null,
      "right": null,
      "top": null,
      "visibility": null,
      "width": null
     }
    },
    "2a52e2f61c2148438469f532cb123013": {
     "model_module": "@jupyter-widgets/controls",
     "model_name": "HTMLModel",
     "state": {
      "_dom_classes": [],
      "_model_module": "@jupyter-widgets/controls",
      "_model_module_version": "1.5.0",
      "_model_name": "HTMLModel",
      "_view_count": null,
      "_view_module": "@jupyter-widgets/controls",
      "_view_module_version": "1.5.0",
      "_view_name": "HTMLView",
      "description": "",
      "description_tooltip": null,
      "layout": "IPY_MODEL_11d1e6a30892425abc5bfc3d56577122",
      "placeholder": "​",
      "style": "IPY_MODEL_f1462a9f76c248819a0a3360cc09c56a",
      "value": " 508/508 [00:00&lt;00:00, 1.88kB/s]"
     }
    },
    "2de9497612aa486bbe6c6ff6e95b0d50": {
     "model_module": "@jupyter-widgets/controls",
     "model_name": "HTMLModel",
     "state": {
      "_dom_classes": [],
      "_model_module": "@jupyter-widgets/controls",
      "_model_module_version": "1.5.0",
      "_model_name": "HTMLModel",
      "_view_count": null,
      "_view_module": "@jupyter-widgets/controls",
      "_view_module_version": "1.5.0",
      "_view_name": "HTMLView",
      "description": "",
      "description_tooltip": null,
      "layout": "IPY_MODEL_8a231fb1af7a4f5cb8799260ffb531e8",
      "placeholder": "​",
      "style": "IPY_MODEL_6f5eed313597487580b0de792256ccf3",
      "value": " 445M/445M [00:35&lt;00:00, 12.5MB/s]"
     }
    },
    "2f4d26b2b1c9476fb7276fdfd31e11cc": {
     "model_module": "@jupyter-widgets/controls",
     "model_name": "ProgressStyleModel",
     "state": {
      "_model_module": "@jupyter-widgets/controls",
      "_model_module_version": "1.5.0",
      "_model_name": "ProgressStyleModel",
      "_view_count": null,
      "_view_module": "@jupyter-widgets/base",
      "_view_module_version": "1.2.0",
      "_view_name": "StyleView",
      "bar_color": null,
      "description_width": "initial"
     }
    },
    "2fd83cead83248c499d69bde96d742f1": {
     "model_module": "@jupyter-widgets/base",
     "model_name": "LayoutModel",
     "state": {
      "_model_module": "@jupyter-widgets/base",
      "_model_module_version": "1.2.0",
      "_model_name": "LayoutModel",
      "_view_count": null,
      "_view_module": "@jupyter-widgets/base",
      "_view_module_version": "1.2.0",
      "_view_name": "LayoutView",
      "align_content": null,
      "align_items": null,
      "align_self": null,
      "border": null,
      "bottom": null,
      "display": null,
      "flex": null,
      "flex_flow": null,
      "grid_area": null,
      "grid_auto_columns": null,
      "grid_auto_flow": null,
      "grid_auto_rows": null,
      "grid_column": null,
      "grid_gap": null,
      "grid_row": null,
      "grid_template_areas": null,
      "grid_template_columns": null,
      "grid_template_rows": null,
      "height": null,
      "justify_content": null,
      "justify_items": null,
      "left": null,
      "margin": null,
      "max_height": null,
      "max_width": null,
      "min_height": null,
      "min_width": null,
      "object_fit": null,
      "object_position": null,
      "order": null,
      "overflow": null,
      "overflow_x": null,
      "overflow_y": null,
      "padding": null,
      "right": null,
      "top": null,
      "visibility": null,
      "width": null
     }
    },
    "32d1464045284bc18414b33247c1e8e0": {
     "model_module": "@jupyter-widgets/controls",
     "model_name": "FloatProgressModel",
     "state": {
      "_dom_classes": [],
      "_model_module": "@jupyter-widgets/controls",
      "_model_module_version": "1.5.0",
      "_model_name": "FloatProgressModel",
      "_view_count": null,
      "_view_module": "@jupyter-widgets/controls",
      "_view_module_version": "1.5.0",
      "_view_name": "ProgressView",
      "bar_style": "success",
      "description": "Downloading: 100%",
      "description_tooltip": null,
      "layout": "IPY_MODEL_7114f161315e4ac79f90f6edd280b6da",
      "max": 445032417,
      "min": 0,
      "orientation": "horizontal",
      "style": "IPY_MODEL_2f4d26b2b1c9476fb7276fdfd31e11cc",
      "value": 445032417
     }
    },
    "33c7738476d14fbbb238b4482782f11f": {
     "model_module": "@jupyter-widgets/base",
     "model_name": "LayoutModel",
     "state": {
      "_model_module": "@jupyter-widgets/base",
      "_model_module_version": "1.2.0",
      "_model_name": "LayoutModel",
      "_view_count": null,
      "_view_module": "@jupyter-widgets/base",
      "_view_module_version": "1.2.0",
      "_view_name": "LayoutView",
      "align_content": null,
      "align_items": null,
      "align_self": null,
      "border": null,
      "bottom": null,
      "display": null,
      "flex": null,
      "flex_flow": null,
      "grid_area": null,
      "grid_auto_columns": null,
      "grid_auto_flow": null,
      "grid_auto_rows": null,
      "grid_column": null,
      "grid_gap": null,
      "grid_row": null,
      "grid_template_areas": null,
      "grid_template_columns": null,
      "grid_template_rows": null,
      "height": null,
      "justify_content": null,
      "justify_items": null,
      "left": null,
      "margin": null,
      "max_height": null,
      "max_width": null,
      "min_height": null,
      "min_width": null,
      "object_fit": null,
      "object_position": null,
      "order": null,
      "overflow": null,
      "overflow_x": null,
      "overflow_y": null,
      "padding": null,
      "right": null,
      "top": null,
      "visibility": null,
      "width": null
     }
    },
    "435f2526c7e14e0e9ed765e7ab8ef086": {
     "model_module": "@jupyter-widgets/base",
     "model_name": "LayoutModel",
     "state": {
      "_model_module": "@jupyter-widgets/base",
      "_model_module_version": "1.2.0",
      "_model_name": "LayoutModel",
      "_view_count": null,
      "_view_module": "@jupyter-widgets/base",
      "_view_module_version": "1.2.0",
      "_view_name": "LayoutView",
      "align_content": null,
      "align_items": null,
      "align_self": null,
      "border": null,
      "bottom": null,
      "display": null,
      "flex": null,
      "flex_flow": null,
      "grid_area": null,
      "grid_auto_columns": null,
      "grid_auto_flow": null,
      "grid_auto_rows": null,
      "grid_column": null,
      "grid_gap": null,
      "grid_row": null,
      "grid_template_areas": null,
      "grid_template_columns": null,
      "grid_template_rows": null,
      "height": null,
      "justify_content": null,
      "justify_items": null,
      "left": null,
      "margin": null,
      "max_height": null,
      "max_width": null,
      "min_height": null,
      "min_width": null,
      "object_fit": null,
      "object_position": null,
      "order": null,
      "overflow": null,
      "overflow_x": null,
      "overflow_y": null,
      "padding": null,
      "right": null,
      "top": null,
      "visibility": null,
      "width": null
     }
    },
    "491ada83c68f44fab73ce0e70b41236b": {
     "model_module": "@jupyter-widgets/controls",
     "model_name": "ProgressStyleModel",
     "state": {
      "_model_module": "@jupyter-widgets/controls",
      "_model_module_version": "1.5.0",
      "_model_name": "ProgressStyleModel",
      "_view_count": null,
      "_view_module": "@jupyter-widgets/base",
      "_view_module_version": "1.2.0",
      "_view_name": "StyleView",
      "bar_color": null,
      "description_width": "initial"
     }
    },
    "5470e73fa4464a21bddf0f649f3384f3": {
     "model_module": "@jupyter-widgets/controls",
     "model_name": "HBoxModel",
     "state": {
      "_dom_classes": [],
      "_model_module": "@jupyter-widgets/controls",
      "_model_module_version": "1.5.0",
      "_model_name": "HBoxModel",
      "_view_count": null,
      "_view_module": "@jupyter-widgets/controls",
      "_view_module_version": "1.5.0",
      "_view_name": "HBoxView",
      "box_style": "",
      "children": [
       "IPY_MODEL_32d1464045284bc18414b33247c1e8e0",
       "IPY_MODEL_2de9497612aa486bbe6c6ff6e95b0d50"
      ],
      "layout": "IPY_MODEL_bfef7ee98f5045f0a696f15d79161738"
     }
    },
    "5b5f0762302340c1958424d83e50412d": {
     "model_module": "@jupyter-widgets/controls",
     "model_name": "FloatProgressModel",
     "state": {
      "_dom_classes": [],
      "_model_module": "@jupyter-widgets/controls",
      "_model_module_version": "1.5.0",
      "_model_name": "FloatProgressModel",
      "_view_count": null,
      "_view_module": "@jupyter-widgets/controls",
      "_view_module_version": "1.5.0",
      "_view_name": "ProgressView",
      "bar_style": "success",
      "description": "Downloading: 100%",
      "description_tooltip": null,
      "layout": "IPY_MODEL_10ae617a331d4a74a80d25f38ee5e32a",
      "max": 508,
      "min": 0,
      "orientation": "horizontal",
      "style": "IPY_MODEL_78f309ba45ce429aaf4bf3f9b3f7db79",
      "value": 508
     }
    },
    "6c0819f102ff4cfd80bbe2e4b1abcf45": {
     "model_module": "@jupyter-widgets/controls",
     "model_name": "HBoxModel",
     "state": {
      "_dom_classes": [],
      "_model_module": "@jupyter-widgets/controls",
      "_model_module_version": "1.5.0",
      "_model_name": "HBoxModel",
      "_view_count": null,
      "_view_module": "@jupyter-widgets/controls",
      "_view_module_version": "1.5.0",
      "_view_name": "HBoxView",
      "box_style": "",
      "children": [
       "IPY_MODEL_5b5f0762302340c1958424d83e50412d",
       "IPY_MODEL_2a52e2f61c2148438469f532cb123013"
      ],
      "layout": "IPY_MODEL_c7e43e42d3be43f2bfa57dd3fb195484"
     }
    },
    "6f5eed313597487580b0de792256ccf3": {
     "model_module": "@jupyter-widgets/controls",
     "model_name": "DescriptionStyleModel",
     "state": {
      "_model_module": "@jupyter-widgets/controls",
      "_model_module_version": "1.5.0",
      "_model_name": "DescriptionStyleModel",
      "_view_count": null,
      "_view_module": "@jupyter-widgets/base",
      "_view_module_version": "1.2.0",
      "_view_name": "StyleView",
      "description_width": ""
     }
    },
    "7114f161315e4ac79f90f6edd280b6da": {
     "model_module": "@jupyter-widgets/base",
     "model_name": "LayoutModel",
     "state": {
      "_model_module": "@jupyter-widgets/base",
      "_model_module_version": "1.2.0",
      "_model_name": "LayoutModel",
      "_view_count": null,
      "_view_module": "@jupyter-widgets/base",
      "_view_module_version": "1.2.0",
      "_view_name": "LayoutView",
      "align_content": null,
      "align_items": null,
      "align_self": null,
      "border": null,
      "bottom": null,
      "display": null,
      "flex": null,
      "flex_flow": null,
      "grid_area": null,
      "grid_auto_columns": null,
      "grid_auto_flow": null,
      "grid_auto_rows": null,
      "grid_column": null,
      "grid_gap": null,
      "grid_row": null,
      "grid_template_areas": null,
      "grid_template_columns": null,
      "grid_template_rows": null,
      "height": null,
      "justify_content": null,
      "justify_items": null,
      "left": null,
      "margin": null,
      "max_height": null,
      "max_width": null,
      "min_height": null,
      "min_width": null,
      "object_fit": null,
      "object_position": null,
      "order": null,
      "overflow": null,
      "overflow_x": null,
      "overflow_y": null,
      "padding": null,
      "right": null,
      "top": null,
      "visibility": null,
      "width": null
     }
    },
    "718c93090b67430aa4a9bf8c22548e5b": {
     "model_module": "@jupyter-widgets/base",
     "model_name": "LayoutModel",
     "state": {
      "_model_module": "@jupyter-widgets/base",
      "_model_module_version": "1.2.0",
      "_model_name": "LayoutModel",
      "_view_count": null,
      "_view_module": "@jupyter-widgets/base",
      "_view_module_version": "1.2.0",
      "_view_name": "LayoutView",
      "align_content": null,
      "align_items": null,
      "align_self": null,
      "border": null,
      "bottom": null,
      "display": null,
      "flex": null,
      "flex_flow": null,
      "grid_area": null,
      "grid_auto_columns": null,
      "grid_auto_flow": null,
      "grid_auto_rows": null,
      "grid_column": null,
      "grid_gap": null,
      "grid_row": null,
      "grid_template_areas": null,
      "grid_template_columns": null,
      "grid_template_rows": null,
      "height": null,
      "justify_content": null,
      "justify_items": null,
      "left": null,
      "margin": null,
      "max_height": null,
      "max_width": null,
      "min_height": null,
      "min_width": null,
      "object_fit": null,
      "object_position": null,
      "order": null,
      "overflow": null,
      "overflow_x": null,
      "overflow_y": null,
      "padding": null,
      "right": null,
      "top": null,
      "visibility": null,
      "width": null
     }
    },
    "779efa8606444508bca4262db09224b7": {
     "model_module": "@jupyter-widgets/controls",
     "model_name": "HBoxModel",
     "state": {
      "_dom_classes": [],
      "_model_module": "@jupyter-widgets/controls",
      "_model_module_version": "1.5.0",
      "_model_name": "HBoxModel",
      "_view_count": null,
      "_view_module": "@jupyter-widgets/controls",
      "_view_module_version": "1.5.0",
      "_view_name": "HBoxView",
      "box_style": "",
      "children": [
       "IPY_MODEL_d32cafe3113643e6917e4ce23cd2b9ba",
       "IPY_MODEL_c7f8c04eb02c42aa82a5bb14878d501b"
      ],
      "layout": "IPY_MODEL_9a33fd89e3234ba49886e80d546481a9"
     }
    },
    "78f309ba45ce429aaf4bf3f9b3f7db79": {
     "model_module": "@jupyter-widgets/controls",
     "model_name": "ProgressStyleModel",
     "state": {
      "_model_module": "@jupyter-widgets/controls",
      "_model_module_version": "1.5.0",
      "_model_name": "ProgressStyleModel",
      "_view_count": null,
      "_view_module": "@jupyter-widgets/base",
      "_view_module_version": "1.2.0",
      "_view_name": "StyleView",
      "bar_color": null,
      "description_width": "initial"
     }
    },
    "7f50d2a7f3ae44d19851593736fd16a7": {
     "model_module": "@jupyter-widgets/controls",
     "model_name": "DescriptionStyleModel",
     "state": {
      "_model_module": "@jupyter-widgets/controls",
      "_model_module_version": "1.5.0",
      "_model_name": "DescriptionStyleModel",
      "_view_count": null,
      "_view_module": "@jupyter-widgets/base",
      "_view_module_version": "1.2.0",
      "_view_name": "StyleView",
      "description_width": ""
     }
    },
    "802e476f1d92426d9f7a6c4d2e82237d": {
     "model_module": "@jupyter-widgets/controls",
     "model_name": "ProgressStyleModel",
     "state": {
      "_model_module": "@jupyter-widgets/controls",
      "_model_module_version": "1.5.0",
      "_model_name": "ProgressStyleModel",
      "_view_count": null,
      "_view_module": "@jupyter-widgets/base",
      "_view_module_version": "1.2.0",
      "_view_name": "StyleView",
      "bar_color": null,
      "description_width": "initial"
     }
    },
    "830df6dd191a43e7b387f500cb92c78c": {
     "model_module": "@jupyter-widgets/controls",
     "model_name": "HTMLModel",
     "state": {
      "_dom_classes": [],
      "_model_module": "@jupyter-widgets/controls",
      "_model_module_version": "1.5.0",
      "_model_name": "HTMLModel",
      "_view_count": null,
      "_view_module": "@jupyter-widgets/controls",
      "_view_module_version": "1.5.0",
      "_view_name": "HTMLView",
      "description": "",
      "description_tooltip": null,
      "layout": "IPY_MODEL_718c93090b67430aa4a9bf8c22548e5b",
      "placeholder": "​",
      "style": "IPY_MODEL_7f50d2a7f3ae44d19851593736fd16a7",
      "value": " 1.40M/1.40M [00:10&lt;00:00, 139kB/s]"
     }
    },
    "89a87e9b6e59438b9f9ac3fe5ba65b68": {
     "model_module": "@jupyter-widgets/base",
     "model_name": "LayoutModel",
     "state": {
      "_model_module": "@jupyter-widgets/base",
      "_model_module_version": "1.2.0",
      "_model_name": "LayoutModel",
      "_view_count": null,
      "_view_module": "@jupyter-widgets/base",
      "_view_module_version": "1.2.0",
      "_view_name": "LayoutView",
      "align_content": null,
      "align_items": null,
      "align_self": null,
      "border": null,
      "bottom": null,
      "display": null,
      "flex": null,
      "flex_flow": null,
      "grid_area": null,
      "grid_auto_columns": null,
      "grid_auto_flow": null,
      "grid_auto_rows": null,
      "grid_column": null,
      "grid_gap": null,
      "grid_row": null,
      "grid_template_areas": null,
      "grid_template_columns": null,
      "grid_template_rows": null,
      "height": null,
      "justify_content": null,
      "justify_items": null,
      "left": null,
      "margin": null,
      "max_height": null,
      "max_width": null,
      "min_height": null,
      "min_width": null,
      "object_fit": null,
      "object_position": null,
      "order": null,
      "overflow": null,
      "overflow_x": null,
      "overflow_y": null,
      "padding": null,
      "right": null,
      "top": null,
      "visibility": null,
      "width": null
     }
    },
    "8a231fb1af7a4f5cb8799260ffb531e8": {
     "model_module": "@jupyter-widgets/base",
     "model_name": "LayoutModel",
     "state": {
      "_model_module": "@jupyter-widgets/base",
      "_model_module_version": "1.2.0",
      "_model_name": "LayoutModel",
      "_view_count": null,
      "_view_module": "@jupyter-widgets/base",
      "_view_module_version": "1.2.0",
      "_view_name": "LayoutView",
      "align_content": null,
      "align_items": null,
      "align_self": null,
      "border": null,
      "bottom": null,
      "display": null,
      "flex": null,
      "flex_flow": null,
      "grid_area": null,
      "grid_auto_columns": null,
      "grid_auto_flow": null,
      "grid_auto_rows": null,
      "grid_column": null,
      "grid_gap": null,
      "grid_row": null,
      "grid_template_areas": null,
      "grid_template_columns": null,
      "grid_template_rows": null,
      "height": null,
      "justify_content": null,
      "justify_items": null,
      "left": null,
      "margin": null,
      "max_height": null,
      "max_width": null,
      "min_height": null,
      "min_width": null,
      "object_fit": null,
      "object_position": null,
      "order": null,
      "overflow": null,
      "overflow_x": null,
      "overflow_y": null,
      "padding": null,
      "right": null,
      "top": null,
      "visibility": null,
      "width": null
     }
    },
    "9a33fd89e3234ba49886e80d546481a9": {
     "model_module": "@jupyter-widgets/base",
     "model_name": "LayoutModel",
     "state": {
      "_model_module": "@jupyter-widgets/base",
      "_model_module_version": "1.2.0",
      "_model_name": "LayoutModel",
      "_view_count": null,
      "_view_module": "@jupyter-widgets/base",
      "_view_module_version": "1.2.0",
      "_view_name": "LayoutView",
      "align_content": null,
      "align_items": null,
      "align_self": null,
      "border": null,
      "bottom": null,
      "display": null,
      "flex": null,
      "flex_flow": null,
      "grid_area": null,
      "grid_auto_columns": null,
      "grid_auto_flow": null,
      "grid_auto_rows": null,
      "grid_column": null,
      "grid_gap": null,
      "grid_row": null,
      "grid_template_areas": null,
      "grid_template_columns": null,
      "grid_template_rows": null,
      "height": null,
      "justify_content": null,
      "justify_items": null,
      "left": null,
      "margin": null,
      "max_height": null,
      "max_width": null,
      "min_height": null,
      "min_width": null,
      "object_fit": null,
      "object_position": null,
      "order": null,
      "overflow": null,
      "overflow_x": null,
      "overflow_y": null,
      "padding": null,
      "right": null,
      "top": null,
      "visibility": null,
      "width": null
     }
    },
    "a7c9fec64a424b6195a7ea2ccf0aa9fe": {
     "model_module": "@jupyter-widgets/controls",
     "model_name": "FloatProgressModel",
     "state": {
      "_dom_classes": [],
      "_model_module": "@jupyter-widgets/controls",
      "_model_module_version": "1.5.0",
      "_model_name": "FloatProgressModel",
      "_view_count": null,
      "_view_module": "@jupyter-widgets/controls",
      "_view_module_version": "1.5.0",
      "_view_name": "ProgressView",
      "bar_style": "success",
      "description": "Downloading: 100%",
      "description_tooltip": null,
      "layout": "IPY_MODEL_2fd83cead83248c499d69bde96d742f1",
      "max": 1395301,
      "min": 0,
      "orientation": "horizontal",
      "style": "IPY_MODEL_802e476f1d92426d9f7a6c4d2e82237d",
      "value": 1395301
     }
    },
    "bfef7ee98f5045f0a696f15d79161738": {
     "model_module": "@jupyter-widgets/base",
     "model_name": "LayoutModel",
     "state": {
      "_model_module": "@jupyter-widgets/base",
      "_model_module_version": "1.2.0",
      "_model_name": "LayoutModel",
      "_view_count": null,
      "_view_module": "@jupyter-widgets/base",
      "_view_module_version": "1.2.0",
      "_view_name": "LayoutView",
      "align_content": null,
      "align_items": null,
      "align_self": null,
      "border": null,
      "bottom": null,
      "display": null,
      "flex": null,
      "flex_flow": null,
      "grid_area": null,
      "grid_auto_columns": null,
      "grid_auto_flow": null,
      "grid_auto_rows": null,
      "grid_column": null,
      "grid_gap": null,
      "grid_row": null,
      "grid_template_areas": null,
      "grid_template_columns": null,
      "grid_template_rows": null,
      "height": null,
      "justify_content": null,
      "justify_items": null,
      "left": null,
      "margin": null,
      "max_height": null,
      "max_width": null,
      "min_height": null,
      "min_width": null,
      "object_fit": null,
      "object_position": null,
      "order": null,
      "overflow": null,
      "overflow_x": null,
      "overflow_y": null,
      "padding": null,
      "right": null,
      "top": null,
      "visibility": null,
      "width": null
     }
    },
    "c7e43e42d3be43f2bfa57dd3fb195484": {
     "model_module": "@jupyter-widgets/base",
     "model_name": "LayoutModel",
     "state": {
      "_model_module": "@jupyter-widgets/base",
      "_model_module_version": "1.2.0",
      "_model_name": "LayoutModel",
      "_view_count": null,
      "_view_module": "@jupyter-widgets/base",
      "_view_module_version": "1.2.0",
      "_view_name": "LayoutView",
      "align_content": null,
      "align_items": null,
      "align_self": null,
      "border": null,
      "bottom": null,
      "display": null,
      "flex": null,
      "flex_flow": null,
      "grid_area": null,
      "grid_auto_columns": null,
      "grid_auto_flow": null,
      "grid_auto_rows": null,
      "grid_column": null,
      "grid_gap": null,
      "grid_row": null,
      "grid_template_areas": null,
      "grid_template_columns": null,
      "grid_template_rows": null,
      "height": null,
      "justify_content": null,
      "justify_items": null,
      "left": null,
      "margin": null,
      "max_height": null,
      "max_width": null,
      "min_height": null,
      "min_width": null,
      "object_fit": null,
      "object_position": null,
      "order": null,
      "overflow": null,
      "overflow_x": null,
      "overflow_y": null,
      "padding": null,
      "right": null,
      "top": null,
      "visibility": null,
      "width": null
     }
    },
    "c7f8c04eb02c42aa82a5bb14878d501b": {
     "model_module": "@jupyter-widgets/controls",
     "model_name": "HTMLModel",
     "state": {
      "_dom_classes": [],
      "_model_module": "@jupyter-widgets/controls",
      "_model_module_version": "1.5.0",
      "_model_name": "HTMLModel",
      "_view_count": null,
      "_view_module": "@jupyter-widgets/controls",
      "_view_module_version": "1.5.0",
      "_view_name": "HTMLView",
      "description": "",
      "description_tooltip": null,
      "layout": "IPY_MODEL_435f2526c7e14e0e9ed765e7ab8ef086",
      "placeholder": "​",
      "style": "IPY_MODEL_d757cf73ba3c4fbca96dc9896944cf10",
      "value": " 811k/811k [00:10&lt;00:00, 78.4kB/s]"
     }
    },
    "d32cafe3113643e6917e4ce23cd2b9ba": {
     "model_module": "@jupyter-widgets/controls",
     "model_name": "FloatProgressModel",
     "state": {
      "_dom_classes": [],
      "_model_module": "@jupyter-widgets/controls",
      "_model_module_version": "1.5.0",
      "_model_name": "FloatProgressModel",
      "_view_count": null,
      "_view_module": "@jupyter-widgets/controls",
      "_view_module_version": "1.5.0",
      "_view_name": "ProgressView",
      "bar_style": "success",
      "description": "Downloading: 100%",
      "description_tooltip": null,
      "layout": "IPY_MODEL_33c7738476d14fbbb238b4482782f11f",
      "max": 810912,
      "min": 0,
      "orientation": "horizontal",
      "style": "IPY_MODEL_491ada83c68f44fab73ce0e70b41236b",
      "value": 810912
     }
    },
    "d757cf73ba3c4fbca96dc9896944cf10": {
     "model_module": "@jupyter-widgets/controls",
     "model_name": "DescriptionStyleModel",
     "state": {
      "_model_module": "@jupyter-widgets/controls",
      "_model_module_version": "1.5.0",
      "_model_name": "DescriptionStyleModel",
      "_view_count": null,
      "_view_module": "@jupyter-widgets/base",
      "_view_module_version": "1.2.0",
      "_view_name": "StyleView",
      "description_width": ""
     }
    },
    "e92e4a66aa114e008245a55ee601e9db": {
     "model_module": "@jupyter-widgets/controls",
     "model_name": "HBoxModel",
     "state": {
      "_dom_classes": [],
      "_model_module": "@jupyter-widgets/controls",
      "_model_module_version": "1.5.0",
      "_model_name": "HBoxModel",
      "_view_count": null,
      "_view_module": "@jupyter-widgets/controls",
      "_view_module_version": "1.5.0",
      "_view_name": "HBoxView",
      "box_style": "",
      "children": [
       "IPY_MODEL_a7c9fec64a424b6195a7ea2ccf0aa9fe",
       "IPY_MODEL_830df6dd191a43e7b387f500cb92c78c"
      ],
      "layout": "IPY_MODEL_89a87e9b6e59438b9f9ac3fe5ba65b68"
     }
    },
    "f1462a9f76c248819a0a3360cc09c56a": {
     "model_module": "@jupyter-widgets/controls",
     "model_name": "DescriptionStyleModel",
     "state": {
      "_model_module": "@jupyter-widgets/controls",
      "_model_module_version": "1.5.0",
      "_model_name": "DescriptionStyleModel",
      "_view_count": null,
      "_view_module": "@jupyter-widgets/base",
      "_view_module_version": "1.2.0",
      "_view_name": "StyleView",
      "description_width": ""
     }
    }
   }
  }
 },
 "nbformat": 4,
 "nbformat_minor": 4
}
